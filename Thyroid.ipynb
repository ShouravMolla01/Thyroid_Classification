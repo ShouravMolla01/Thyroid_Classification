{
 "cells": [
  {
   "cell_type": "code",
   "execution_count": 1,
   "id": "faecc0d4",
   "metadata": {},
   "outputs": [],
   "source": [
    "import pandas as pd"
   ]
  },
  {
   "cell_type": "code",
   "execution_count": 2,
   "id": "4f0c56fc",
   "metadata": {},
   "outputs": [],
   "source": [
    "df=pd.read_csv('hypothyroid.csv')"
   ]
  },
  {
   "cell_type": "code",
   "execution_count": 3,
   "id": "e40740e2",
   "metadata": {},
   "outputs": [
    {
     "data": {
      "text/html": [
       "<div>\n",
       "<style scoped>\n",
       "    .dataframe tbody tr th:only-of-type {\n",
       "        vertical-align: middle;\n",
       "    }\n",
       "\n",
       "    .dataframe tbody tr th {\n",
       "        vertical-align: top;\n",
       "    }\n",
       "\n",
       "    .dataframe thead th {\n",
       "        text-align: right;\n",
       "    }\n",
       "</style>\n",
       "<table border=\"1\" class=\"dataframe\">\n",
       "  <thead>\n",
       "    <tr style=\"text-align: right;\">\n",
       "      <th></th>\n",
       "      <th>age</th>\n",
       "      <th>sex</th>\n",
       "      <th>on thyroxine</th>\n",
       "      <th>query on thyroxine</th>\n",
       "      <th>on antithyroid medication</th>\n",
       "      <th>sick</th>\n",
       "      <th>pregnant</th>\n",
       "      <th>thyroid surgery</th>\n",
       "      <th>I131 treatment</th>\n",
       "      <th>query hypothyroid</th>\n",
       "      <th>...</th>\n",
       "      <th>TT4 measured</th>\n",
       "      <th>TT4</th>\n",
       "      <th>T4U measured</th>\n",
       "      <th>T4U</th>\n",
       "      <th>FTI measured</th>\n",
       "      <th>FTI</th>\n",
       "      <th>TBG measured</th>\n",
       "      <th>TBG</th>\n",
       "      <th>referral source</th>\n",
       "      <th>binaryClass</th>\n",
       "    </tr>\n",
       "  </thead>\n",
       "  <tbody>\n",
       "    <tr>\n",
       "      <th>0</th>\n",
       "      <td>41</td>\n",
       "      <td>F</td>\n",
       "      <td>f</td>\n",
       "      <td>f</td>\n",
       "      <td>f</td>\n",
       "      <td>f</td>\n",
       "      <td>f</td>\n",
       "      <td>f</td>\n",
       "      <td>f</td>\n",
       "      <td>f</td>\n",
       "      <td>...</td>\n",
       "      <td>t</td>\n",
       "      <td>125</td>\n",
       "      <td>t</td>\n",
       "      <td>1.14</td>\n",
       "      <td>t</td>\n",
       "      <td>109</td>\n",
       "      <td>f</td>\n",
       "      <td>?</td>\n",
       "      <td>SVHC</td>\n",
       "      <td>P</td>\n",
       "    </tr>\n",
       "    <tr>\n",
       "      <th>1</th>\n",
       "      <td>23</td>\n",
       "      <td>F</td>\n",
       "      <td>f</td>\n",
       "      <td>f</td>\n",
       "      <td>f</td>\n",
       "      <td>f</td>\n",
       "      <td>f</td>\n",
       "      <td>f</td>\n",
       "      <td>f</td>\n",
       "      <td>f</td>\n",
       "      <td>...</td>\n",
       "      <td>t</td>\n",
       "      <td>102</td>\n",
       "      <td>f</td>\n",
       "      <td>?</td>\n",
       "      <td>f</td>\n",
       "      <td>?</td>\n",
       "      <td>f</td>\n",
       "      <td>?</td>\n",
       "      <td>other</td>\n",
       "      <td>P</td>\n",
       "    </tr>\n",
       "    <tr>\n",
       "      <th>2</th>\n",
       "      <td>46</td>\n",
       "      <td>M</td>\n",
       "      <td>f</td>\n",
       "      <td>f</td>\n",
       "      <td>f</td>\n",
       "      <td>f</td>\n",
       "      <td>f</td>\n",
       "      <td>f</td>\n",
       "      <td>f</td>\n",
       "      <td>f</td>\n",
       "      <td>...</td>\n",
       "      <td>t</td>\n",
       "      <td>109</td>\n",
       "      <td>t</td>\n",
       "      <td>0.91</td>\n",
       "      <td>t</td>\n",
       "      <td>120</td>\n",
       "      <td>f</td>\n",
       "      <td>?</td>\n",
       "      <td>other</td>\n",
       "      <td>P</td>\n",
       "    </tr>\n",
       "    <tr>\n",
       "      <th>3</th>\n",
       "      <td>70</td>\n",
       "      <td>F</td>\n",
       "      <td>t</td>\n",
       "      <td>f</td>\n",
       "      <td>f</td>\n",
       "      <td>f</td>\n",
       "      <td>f</td>\n",
       "      <td>f</td>\n",
       "      <td>f</td>\n",
       "      <td>f</td>\n",
       "      <td>...</td>\n",
       "      <td>t</td>\n",
       "      <td>175</td>\n",
       "      <td>f</td>\n",
       "      <td>?</td>\n",
       "      <td>f</td>\n",
       "      <td>?</td>\n",
       "      <td>f</td>\n",
       "      <td>?</td>\n",
       "      <td>other</td>\n",
       "      <td>P</td>\n",
       "    </tr>\n",
       "    <tr>\n",
       "      <th>4</th>\n",
       "      <td>70</td>\n",
       "      <td>F</td>\n",
       "      <td>f</td>\n",
       "      <td>f</td>\n",
       "      <td>f</td>\n",
       "      <td>f</td>\n",
       "      <td>f</td>\n",
       "      <td>f</td>\n",
       "      <td>f</td>\n",
       "      <td>f</td>\n",
       "      <td>...</td>\n",
       "      <td>t</td>\n",
       "      <td>61</td>\n",
       "      <td>t</td>\n",
       "      <td>0.87</td>\n",
       "      <td>t</td>\n",
       "      <td>70</td>\n",
       "      <td>f</td>\n",
       "      <td>?</td>\n",
       "      <td>SVI</td>\n",
       "      <td>P</td>\n",
       "    </tr>\n",
       "    <tr>\n",
       "      <th>...</th>\n",
       "      <td>...</td>\n",
       "      <td>...</td>\n",
       "      <td>...</td>\n",
       "      <td>...</td>\n",
       "      <td>...</td>\n",
       "      <td>...</td>\n",
       "      <td>...</td>\n",
       "      <td>...</td>\n",
       "      <td>...</td>\n",
       "      <td>...</td>\n",
       "      <td>...</td>\n",
       "      <td>...</td>\n",
       "      <td>...</td>\n",
       "      <td>...</td>\n",
       "      <td>...</td>\n",
       "      <td>...</td>\n",
       "      <td>...</td>\n",
       "      <td>...</td>\n",
       "      <td>...</td>\n",
       "      <td>...</td>\n",
       "      <td>...</td>\n",
       "    </tr>\n",
       "    <tr>\n",
       "      <th>3767</th>\n",
       "      <td>30</td>\n",
       "      <td>F</td>\n",
       "      <td>f</td>\n",
       "      <td>f</td>\n",
       "      <td>f</td>\n",
       "      <td>f</td>\n",
       "      <td>f</td>\n",
       "      <td>f</td>\n",
       "      <td>f</td>\n",
       "      <td>f</td>\n",
       "      <td>...</td>\n",
       "      <td>f</td>\n",
       "      <td>?</td>\n",
       "      <td>f</td>\n",
       "      <td>?</td>\n",
       "      <td>f</td>\n",
       "      <td>?</td>\n",
       "      <td>f</td>\n",
       "      <td>?</td>\n",
       "      <td>other</td>\n",
       "      <td>P</td>\n",
       "    </tr>\n",
       "    <tr>\n",
       "      <th>3768</th>\n",
       "      <td>68</td>\n",
       "      <td>F</td>\n",
       "      <td>f</td>\n",
       "      <td>f</td>\n",
       "      <td>f</td>\n",
       "      <td>f</td>\n",
       "      <td>f</td>\n",
       "      <td>f</td>\n",
       "      <td>f</td>\n",
       "      <td>f</td>\n",
       "      <td>...</td>\n",
       "      <td>t</td>\n",
       "      <td>124</td>\n",
       "      <td>t</td>\n",
       "      <td>1.08</td>\n",
       "      <td>t</td>\n",
       "      <td>114</td>\n",
       "      <td>f</td>\n",
       "      <td>?</td>\n",
       "      <td>SVI</td>\n",
       "      <td>P</td>\n",
       "    </tr>\n",
       "    <tr>\n",
       "      <th>3769</th>\n",
       "      <td>74</td>\n",
       "      <td>F</td>\n",
       "      <td>f</td>\n",
       "      <td>f</td>\n",
       "      <td>f</td>\n",
       "      <td>f</td>\n",
       "      <td>f</td>\n",
       "      <td>f</td>\n",
       "      <td>f</td>\n",
       "      <td>f</td>\n",
       "      <td>...</td>\n",
       "      <td>t</td>\n",
       "      <td>112</td>\n",
       "      <td>t</td>\n",
       "      <td>1.07</td>\n",
       "      <td>t</td>\n",
       "      <td>105</td>\n",
       "      <td>f</td>\n",
       "      <td>?</td>\n",
       "      <td>other</td>\n",
       "      <td>P</td>\n",
       "    </tr>\n",
       "    <tr>\n",
       "      <th>3770</th>\n",
       "      <td>72</td>\n",
       "      <td>M</td>\n",
       "      <td>f</td>\n",
       "      <td>f</td>\n",
       "      <td>f</td>\n",
       "      <td>f</td>\n",
       "      <td>f</td>\n",
       "      <td>f</td>\n",
       "      <td>f</td>\n",
       "      <td>f</td>\n",
       "      <td>...</td>\n",
       "      <td>t</td>\n",
       "      <td>82</td>\n",
       "      <td>t</td>\n",
       "      <td>0.94</td>\n",
       "      <td>t</td>\n",
       "      <td>87</td>\n",
       "      <td>f</td>\n",
       "      <td>?</td>\n",
       "      <td>SVI</td>\n",
       "      <td>P</td>\n",
       "    </tr>\n",
       "    <tr>\n",
       "      <th>3771</th>\n",
       "      <td>64</td>\n",
       "      <td>F</td>\n",
       "      <td>f</td>\n",
       "      <td>f</td>\n",
       "      <td>f</td>\n",
       "      <td>f</td>\n",
       "      <td>f</td>\n",
       "      <td>f</td>\n",
       "      <td>f</td>\n",
       "      <td>f</td>\n",
       "      <td>...</td>\n",
       "      <td>t</td>\n",
       "      <td>99</td>\n",
       "      <td>t</td>\n",
       "      <td>1.07</td>\n",
       "      <td>t</td>\n",
       "      <td>92</td>\n",
       "      <td>f</td>\n",
       "      <td>?</td>\n",
       "      <td>other</td>\n",
       "      <td>P</td>\n",
       "    </tr>\n",
       "  </tbody>\n",
       "</table>\n",
       "<p>3772 rows × 30 columns</p>\n",
       "</div>"
      ],
      "text/plain": [
       "     age sex on thyroxine query on thyroxine on antithyroid medication sick  \\\n",
       "0     41   F            f                  f                         f    f   \n",
       "1     23   F            f                  f                         f    f   \n",
       "2     46   M            f                  f                         f    f   \n",
       "3     70   F            t                  f                         f    f   \n",
       "4     70   F            f                  f                         f    f   \n",
       "...   ..  ..          ...                ...                       ...  ...   \n",
       "3767  30   F            f                  f                         f    f   \n",
       "3768  68   F            f                  f                         f    f   \n",
       "3769  74   F            f                  f                         f    f   \n",
       "3770  72   M            f                  f                         f    f   \n",
       "3771  64   F            f                  f                         f    f   \n",
       "\n",
       "     pregnant thyroid surgery I131 treatment query hypothyroid  ...  \\\n",
       "0           f               f              f                 f  ...   \n",
       "1           f               f              f                 f  ...   \n",
       "2           f               f              f                 f  ...   \n",
       "3           f               f              f                 f  ...   \n",
       "4           f               f              f                 f  ...   \n",
       "...       ...             ...            ...               ...  ...   \n",
       "3767        f               f              f                 f  ...   \n",
       "3768        f               f              f                 f  ...   \n",
       "3769        f               f              f                 f  ...   \n",
       "3770        f               f              f                 f  ...   \n",
       "3771        f               f              f                 f  ...   \n",
       "\n",
       "     TT4 measured  TT4 T4U measured   T4U FTI measured  FTI TBG measured TBG  \\\n",
       "0               t  125            t  1.14            t  109            f   ?   \n",
       "1               t  102            f     ?            f    ?            f   ?   \n",
       "2               t  109            t  0.91            t  120            f   ?   \n",
       "3               t  175            f     ?            f    ?            f   ?   \n",
       "4               t   61            t  0.87            t   70            f   ?   \n",
       "...           ...  ...          ...   ...          ...  ...          ...  ..   \n",
       "3767            f    ?            f     ?            f    ?            f   ?   \n",
       "3768            t  124            t  1.08            t  114            f   ?   \n",
       "3769            t  112            t  1.07            t  105            f   ?   \n",
       "3770            t   82            t  0.94            t   87            f   ?   \n",
       "3771            t   99            t  1.07            t   92            f   ?   \n",
       "\n",
       "     referral source binaryClass  \n",
       "0               SVHC           P  \n",
       "1              other           P  \n",
       "2              other           P  \n",
       "3              other           P  \n",
       "4                SVI           P  \n",
       "...              ...         ...  \n",
       "3767           other           P  \n",
       "3768             SVI           P  \n",
       "3769           other           P  \n",
       "3770             SVI           P  \n",
       "3771           other           P  \n",
       "\n",
       "[3772 rows x 30 columns]"
      ]
     },
     "execution_count": 3,
     "metadata": {},
     "output_type": "execute_result"
    }
   ],
   "source": [
    "df"
   ]
  },
  {
   "cell_type": "code",
   "execution_count": 4,
   "id": "e46906be",
   "metadata": {},
   "outputs": [
    {
     "data": {
      "text/plain": [
       "(3772, 30)"
      ]
     },
     "execution_count": 4,
     "metadata": {},
     "output_type": "execute_result"
    }
   ],
   "source": [
    "df.shape"
   ]
  },
  {
   "cell_type": "code",
   "execution_count": 5,
   "id": "0dc1ed2f",
   "metadata": {},
   "outputs": [],
   "source": [
    "df=df.rename(columns={\"binaryClass\":\"Target_columns\"})"
   ]
  },
  {
   "cell_type": "code",
   "execution_count": 6,
   "id": "f2175e0d",
   "metadata": {},
   "outputs": [
    {
     "data": {
      "text/plain": [
       "P    3481\n",
       "N     291\n",
       "Name: Target_columns, dtype: int64"
      ]
     },
     "execution_count": 6,
     "metadata": {},
     "output_type": "execute_result"
    }
   ],
   "source": [
    "df[\"Target_columns\"].value_counts()"
   ]
  },
  {
   "cell_type": "code",
   "execution_count": 7,
   "id": "990c8fc6",
   "metadata": {},
   "outputs": [
    {
     "data": {
      "text/plain": [
       "f    3308\n",
       "t     464\n",
       "Name: on thyroxine, dtype: int64"
      ]
     },
     "execution_count": 7,
     "metadata": {},
     "output_type": "execute_result"
    }
   ],
   "source": [
    "df[\"on thyroxine\"].value_counts()"
   ]
  },
  {
   "cell_type": "code",
   "execution_count": 8,
   "id": "582619c2",
   "metadata": {},
   "outputs": [
    {
     "data": {
      "text/plain": [
       "59     95\n",
       "60     91\n",
       "70     90\n",
       "73     81\n",
       "55     81\n",
       "       ..\n",
       "4       1\n",
       "5       1\n",
       "455     1\n",
       "6       1\n",
       "?       1\n",
       "Name: age, Length: 94, dtype: int64"
      ]
     },
     "execution_count": 8,
     "metadata": {},
     "output_type": "execute_result"
    }
   ],
   "source": [
    "df[\"age\"].value_counts()"
   ]
  },
  {
   "cell_type": "code",
   "execution_count": 9,
   "id": "b17ff430",
   "metadata": {},
   "outputs": [
    {
     "data": {
      "text/plain": [
       "?      385\n",
       "100     73\n",
       "93      70\n",
       "114     65\n",
       "98      64\n",
       "      ... \n",
       "206      1\n",
       "349      1\n",
       "274      1\n",
       "187      1\n",
       "227      1\n",
       "Name: FTI, Length: 235, dtype: int64"
      ]
     },
     "execution_count": 9,
     "metadata": {},
     "output_type": "execute_result"
    }
   ],
   "source": [
    "df[\"FTI\"].value_counts()"
   ]
  },
  {
   "cell_type": "code",
   "execution_count": 10,
   "id": "851f43a1",
   "metadata": {},
   "outputs": [
    {
     "name": "stdout",
     "output_type": "stream",
     "text": [
      "age :  94\n",
      "sex :  3\n",
      "on thyroxine :  2\n",
      "query on thyroxine :  2\n",
      "on antithyroid medication :  2\n",
      "sick :  2\n",
      "pregnant :  2\n",
      "thyroid surgery :  2\n",
      "I131 treatment :  2\n",
      "query hypothyroid :  2\n",
      "query hyperthyroid :  2\n",
      "lithium :  2\n",
      "goitre :  2\n",
      "tumor :  2\n",
      "hypopituitary :  2\n",
      "psych :  2\n",
      "TSH measured :  2\n",
      "TSH :  288\n",
      "T3 measured :  2\n",
      "T3 :  70\n",
      "TT4 measured :  2\n",
      "TT4 :  242\n",
      "T4U measured :  2\n",
      "T4U :  147\n",
      "FTI measured :  2\n",
      "FTI :  235\n",
      "TBG measured :  1\n",
      "TBG :  1\n",
      "referral source :  5\n",
      "Target_columns :  2\n"
     ]
    }
   ],
   "source": [
    "for column in df.columns:\n",
    "    howmany=len(set(df[column]))\n",
    "    print(column,\": \",howmany)"
   ]
  },
  {
   "cell_type": "code",
   "execution_count": 11,
   "id": "5e00f0c3",
   "metadata": {},
   "outputs": [],
   "source": [
    "import numpy as np"
   ]
  },
  {
   "cell_type": "code",
   "execution_count": 12,
   "id": "8c14e09c",
   "metadata": {},
   "outputs": [
    {
     "data": {
      "text/html": [
       "<div>\n",
       "<style scoped>\n",
       "    .dataframe tbody tr th:only-of-type {\n",
       "        vertical-align: middle;\n",
       "    }\n",
       "\n",
       "    .dataframe tbody tr th {\n",
       "        vertical-align: top;\n",
       "    }\n",
       "\n",
       "    .dataframe thead th {\n",
       "        text-align: right;\n",
       "    }\n",
       "</style>\n",
       "<table border=\"1\" class=\"dataframe\">\n",
       "  <thead>\n",
       "    <tr style=\"text-align: right;\">\n",
       "      <th></th>\n",
       "      <th>age</th>\n",
       "      <th>sex</th>\n",
       "      <th>on thyroxine</th>\n",
       "      <th>query on thyroxine</th>\n",
       "      <th>on antithyroid medication</th>\n",
       "      <th>sick</th>\n",
       "      <th>pregnant</th>\n",
       "      <th>thyroid surgery</th>\n",
       "      <th>I131 treatment</th>\n",
       "      <th>query hypothyroid</th>\n",
       "      <th>...</th>\n",
       "      <th>TT4 measured</th>\n",
       "      <th>TT4</th>\n",
       "      <th>T4U measured</th>\n",
       "      <th>T4U</th>\n",
       "      <th>FTI measured</th>\n",
       "      <th>FTI</th>\n",
       "      <th>TBG measured</th>\n",
       "      <th>TBG</th>\n",
       "      <th>referral source</th>\n",
       "      <th>Target_columns</th>\n",
       "    </tr>\n",
       "  </thead>\n",
       "  <tbody>\n",
       "    <tr>\n",
       "      <th>0</th>\n",
       "      <td>41</td>\n",
       "      <td>F</td>\n",
       "      <td>f</td>\n",
       "      <td>f</td>\n",
       "      <td>f</td>\n",
       "      <td>f</td>\n",
       "      <td>f</td>\n",
       "      <td>f</td>\n",
       "      <td>f</td>\n",
       "      <td>f</td>\n",
       "      <td>...</td>\n",
       "      <td>t</td>\n",
       "      <td>125</td>\n",
       "      <td>t</td>\n",
       "      <td>1.14</td>\n",
       "      <td>t</td>\n",
       "      <td>109</td>\n",
       "      <td>f</td>\n",
       "      <td>NaN</td>\n",
       "      <td>SVHC</td>\n",
       "      <td>P</td>\n",
       "    </tr>\n",
       "    <tr>\n",
       "      <th>1</th>\n",
       "      <td>23</td>\n",
       "      <td>F</td>\n",
       "      <td>f</td>\n",
       "      <td>f</td>\n",
       "      <td>f</td>\n",
       "      <td>f</td>\n",
       "      <td>f</td>\n",
       "      <td>f</td>\n",
       "      <td>f</td>\n",
       "      <td>f</td>\n",
       "      <td>...</td>\n",
       "      <td>t</td>\n",
       "      <td>102</td>\n",
       "      <td>f</td>\n",
       "      <td>NaN</td>\n",
       "      <td>f</td>\n",
       "      <td>NaN</td>\n",
       "      <td>f</td>\n",
       "      <td>NaN</td>\n",
       "      <td>other</td>\n",
       "      <td>P</td>\n",
       "    </tr>\n",
       "    <tr>\n",
       "      <th>2</th>\n",
       "      <td>46</td>\n",
       "      <td>M</td>\n",
       "      <td>f</td>\n",
       "      <td>f</td>\n",
       "      <td>f</td>\n",
       "      <td>f</td>\n",
       "      <td>f</td>\n",
       "      <td>f</td>\n",
       "      <td>f</td>\n",
       "      <td>f</td>\n",
       "      <td>...</td>\n",
       "      <td>t</td>\n",
       "      <td>109</td>\n",
       "      <td>t</td>\n",
       "      <td>0.91</td>\n",
       "      <td>t</td>\n",
       "      <td>120</td>\n",
       "      <td>f</td>\n",
       "      <td>NaN</td>\n",
       "      <td>other</td>\n",
       "      <td>P</td>\n",
       "    </tr>\n",
       "    <tr>\n",
       "      <th>3</th>\n",
       "      <td>70</td>\n",
       "      <td>F</td>\n",
       "      <td>t</td>\n",
       "      <td>f</td>\n",
       "      <td>f</td>\n",
       "      <td>f</td>\n",
       "      <td>f</td>\n",
       "      <td>f</td>\n",
       "      <td>f</td>\n",
       "      <td>f</td>\n",
       "      <td>...</td>\n",
       "      <td>t</td>\n",
       "      <td>175</td>\n",
       "      <td>f</td>\n",
       "      <td>NaN</td>\n",
       "      <td>f</td>\n",
       "      <td>NaN</td>\n",
       "      <td>f</td>\n",
       "      <td>NaN</td>\n",
       "      <td>other</td>\n",
       "      <td>P</td>\n",
       "    </tr>\n",
       "    <tr>\n",
       "      <th>4</th>\n",
       "      <td>70</td>\n",
       "      <td>F</td>\n",
       "      <td>f</td>\n",
       "      <td>f</td>\n",
       "      <td>f</td>\n",
       "      <td>f</td>\n",
       "      <td>f</td>\n",
       "      <td>f</td>\n",
       "      <td>f</td>\n",
       "      <td>f</td>\n",
       "      <td>...</td>\n",
       "      <td>t</td>\n",
       "      <td>61</td>\n",
       "      <td>t</td>\n",
       "      <td>0.87</td>\n",
       "      <td>t</td>\n",
       "      <td>70</td>\n",
       "      <td>f</td>\n",
       "      <td>NaN</td>\n",
       "      <td>SVI</td>\n",
       "      <td>P</td>\n",
       "    </tr>\n",
       "    <tr>\n",
       "      <th>...</th>\n",
       "      <td>...</td>\n",
       "      <td>...</td>\n",
       "      <td>...</td>\n",
       "      <td>...</td>\n",
       "      <td>...</td>\n",
       "      <td>...</td>\n",
       "      <td>...</td>\n",
       "      <td>...</td>\n",
       "      <td>...</td>\n",
       "      <td>...</td>\n",
       "      <td>...</td>\n",
       "      <td>...</td>\n",
       "      <td>...</td>\n",
       "      <td>...</td>\n",
       "      <td>...</td>\n",
       "      <td>...</td>\n",
       "      <td>...</td>\n",
       "      <td>...</td>\n",
       "      <td>...</td>\n",
       "      <td>...</td>\n",
       "      <td>...</td>\n",
       "    </tr>\n",
       "    <tr>\n",
       "      <th>3767</th>\n",
       "      <td>30</td>\n",
       "      <td>F</td>\n",
       "      <td>f</td>\n",
       "      <td>f</td>\n",
       "      <td>f</td>\n",
       "      <td>f</td>\n",
       "      <td>f</td>\n",
       "      <td>f</td>\n",
       "      <td>f</td>\n",
       "      <td>f</td>\n",
       "      <td>...</td>\n",
       "      <td>f</td>\n",
       "      <td>NaN</td>\n",
       "      <td>f</td>\n",
       "      <td>NaN</td>\n",
       "      <td>f</td>\n",
       "      <td>NaN</td>\n",
       "      <td>f</td>\n",
       "      <td>NaN</td>\n",
       "      <td>other</td>\n",
       "      <td>P</td>\n",
       "    </tr>\n",
       "    <tr>\n",
       "      <th>3768</th>\n",
       "      <td>68</td>\n",
       "      <td>F</td>\n",
       "      <td>f</td>\n",
       "      <td>f</td>\n",
       "      <td>f</td>\n",
       "      <td>f</td>\n",
       "      <td>f</td>\n",
       "      <td>f</td>\n",
       "      <td>f</td>\n",
       "      <td>f</td>\n",
       "      <td>...</td>\n",
       "      <td>t</td>\n",
       "      <td>124</td>\n",
       "      <td>t</td>\n",
       "      <td>1.08</td>\n",
       "      <td>t</td>\n",
       "      <td>114</td>\n",
       "      <td>f</td>\n",
       "      <td>NaN</td>\n",
       "      <td>SVI</td>\n",
       "      <td>P</td>\n",
       "    </tr>\n",
       "    <tr>\n",
       "      <th>3769</th>\n",
       "      <td>74</td>\n",
       "      <td>F</td>\n",
       "      <td>f</td>\n",
       "      <td>f</td>\n",
       "      <td>f</td>\n",
       "      <td>f</td>\n",
       "      <td>f</td>\n",
       "      <td>f</td>\n",
       "      <td>f</td>\n",
       "      <td>f</td>\n",
       "      <td>...</td>\n",
       "      <td>t</td>\n",
       "      <td>112</td>\n",
       "      <td>t</td>\n",
       "      <td>1.07</td>\n",
       "      <td>t</td>\n",
       "      <td>105</td>\n",
       "      <td>f</td>\n",
       "      <td>NaN</td>\n",
       "      <td>other</td>\n",
       "      <td>P</td>\n",
       "    </tr>\n",
       "    <tr>\n",
       "      <th>3770</th>\n",
       "      <td>72</td>\n",
       "      <td>M</td>\n",
       "      <td>f</td>\n",
       "      <td>f</td>\n",
       "      <td>f</td>\n",
       "      <td>f</td>\n",
       "      <td>f</td>\n",
       "      <td>f</td>\n",
       "      <td>f</td>\n",
       "      <td>f</td>\n",
       "      <td>...</td>\n",
       "      <td>t</td>\n",
       "      <td>82</td>\n",
       "      <td>t</td>\n",
       "      <td>0.94</td>\n",
       "      <td>t</td>\n",
       "      <td>87</td>\n",
       "      <td>f</td>\n",
       "      <td>NaN</td>\n",
       "      <td>SVI</td>\n",
       "      <td>P</td>\n",
       "    </tr>\n",
       "    <tr>\n",
       "      <th>3771</th>\n",
       "      <td>64</td>\n",
       "      <td>F</td>\n",
       "      <td>f</td>\n",
       "      <td>f</td>\n",
       "      <td>f</td>\n",
       "      <td>f</td>\n",
       "      <td>f</td>\n",
       "      <td>f</td>\n",
       "      <td>f</td>\n",
       "      <td>f</td>\n",
       "      <td>...</td>\n",
       "      <td>t</td>\n",
       "      <td>99</td>\n",
       "      <td>t</td>\n",
       "      <td>1.07</td>\n",
       "      <td>t</td>\n",
       "      <td>92</td>\n",
       "      <td>f</td>\n",
       "      <td>NaN</td>\n",
       "      <td>other</td>\n",
       "      <td>P</td>\n",
       "    </tr>\n",
       "  </tbody>\n",
       "</table>\n",
       "<p>3772 rows × 30 columns</p>\n",
       "</div>"
      ],
      "text/plain": [
       "     age sex on thyroxine query on thyroxine on antithyroid medication sick  \\\n",
       "0     41   F            f                  f                         f    f   \n",
       "1     23   F            f                  f                         f    f   \n",
       "2     46   M            f                  f                         f    f   \n",
       "3     70   F            t                  f                         f    f   \n",
       "4     70   F            f                  f                         f    f   \n",
       "...   ..  ..          ...                ...                       ...  ...   \n",
       "3767  30   F            f                  f                         f    f   \n",
       "3768  68   F            f                  f                         f    f   \n",
       "3769  74   F            f                  f                         f    f   \n",
       "3770  72   M            f                  f                         f    f   \n",
       "3771  64   F            f                  f                         f    f   \n",
       "\n",
       "     pregnant thyroid surgery I131 treatment query hypothyroid  ...  \\\n",
       "0           f               f              f                 f  ...   \n",
       "1           f               f              f                 f  ...   \n",
       "2           f               f              f                 f  ...   \n",
       "3           f               f              f                 f  ...   \n",
       "4           f               f              f                 f  ...   \n",
       "...       ...             ...            ...               ...  ...   \n",
       "3767        f               f              f                 f  ...   \n",
       "3768        f               f              f                 f  ...   \n",
       "3769        f               f              f                 f  ...   \n",
       "3770        f               f              f                 f  ...   \n",
       "3771        f               f              f                 f  ...   \n",
       "\n",
       "     TT4 measured  TT4 T4U measured   T4U FTI measured  FTI TBG measured TBG  \\\n",
       "0               t  125            t  1.14            t  109            f NaN   \n",
       "1               t  102            f   NaN            f  NaN            f NaN   \n",
       "2               t  109            t  0.91            t  120            f NaN   \n",
       "3               t  175            f   NaN            f  NaN            f NaN   \n",
       "4               t   61            t  0.87            t   70            f NaN   \n",
       "...           ...  ...          ...   ...          ...  ...          ...  ..   \n",
       "3767            f  NaN            f   NaN            f  NaN            f NaN   \n",
       "3768            t  124            t  1.08            t  114            f NaN   \n",
       "3769            t  112            t  1.07            t  105            f NaN   \n",
       "3770            t   82            t  0.94            t   87            f NaN   \n",
       "3771            t   99            t  1.07            t   92            f NaN   \n",
       "\n",
       "     referral source Target_columns  \n",
       "0               SVHC              P  \n",
       "1              other              P  \n",
       "2              other              P  \n",
       "3              other              P  \n",
       "4                SVI              P  \n",
       "...              ...            ...  \n",
       "3767           other              P  \n",
       "3768             SVI              P  \n",
       "3769           other              P  \n",
       "3770             SVI              P  \n",
       "3771           other              P  \n",
       "\n",
       "[3772 rows x 30 columns]"
      ]
     },
     "execution_count": 12,
     "metadata": {},
     "output_type": "execute_result"
    }
   ],
   "source": [
    "df= df.replace({\"?\":np.NAN})\n",
    "df"
   ]
  },
  {
   "cell_type": "code",
   "execution_count": 13,
   "id": "ba6ad968",
   "metadata": {},
   "outputs": [
    {
     "data": {
      "text/plain": [
       "age                             1\n",
       "sex                           150\n",
       "on thyroxine                    0\n",
       "query on thyroxine              0\n",
       "on antithyroid medication       0\n",
       "sick                            0\n",
       "pregnant                        0\n",
       "thyroid surgery                 0\n",
       "I131 treatment                  0\n",
       "query hypothyroid               0\n",
       "query hyperthyroid              0\n",
       "lithium                         0\n",
       "goitre                          0\n",
       "tumor                           0\n",
       "hypopituitary                   0\n",
       "psych                           0\n",
       "TSH measured                    0\n",
       "TSH                           369\n",
       "T3 measured                     0\n",
       "T3                            769\n",
       "TT4 measured                    0\n",
       "TT4                           231\n",
       "T4U measured                    0\n",
       "T4U                           387\n",
       "FTI measured                    0\n",
       "FTI                           385\n",
       "TBG measured                    0\n",
       "TBG                          3772\n",
       "referral source                 0\n",
       "Target_columns                  0\n",
       "dtype: int64"
      ]
     },
     "execution_count": 13,
     "metadata": {},
     "output_type": "execute_result"
    }
   ],
   "source": [
    "df.isnull().sum()"
   ]
  },
  {
   "cell_type": "code",
   "execution_count": 14,
   "id": "4844285a",
   "metadata": {},
   "outputs": [],
   "source": [
    "df=df.drop([\"TBG\",\"T3\"],axis='columns')"
   ]
  },
  {
   "cell_type": "code",
   "execution_count": 15,
   "id": "cb6e1022",
   "metadata": {},
   "outputs": [],
   "source": [
    "df=df.replace({\"t\":1,\"f\":0,\"F\":1,\"M\":0,\"P\":1,\"N\":0})"
   ]
  },
  {
   "cell_type": "code",
   "execution_count": 16,
   "id": "3078ee15",
   "metadata": {},
   "outputs": [
    {
     "data": {
      "text/html": [
       "<div>\n",
       "<style scoped>\n",
       "    .dataframe tbody tr th:only-of-type {\n",
       "        vertical-align: middle;\n",
       "    }\n",
       "\n",
       "    .dataframe tbody tr th {\n",
       "        vertical-align: top;\n",
       "    }\n",
       "\n",
       "    .dataframe thead th {\n",
       "        text-align: right;\n",
       "    }\n",
       "</style>\n",
       "<table border=\"1\" class=\"dataframe\">\n",
       "  <thead>\n",
       "    <tr style=\"text-align: right;\">\n",
       "      <th></th>\n",
       "      <th>age</th>\n",
       "      <th>sex</th>\n",
       "      <th>on thyroxine</th>\n",
       "      <th>query on thyroxine</th>\n",
       "      <th>on antithyroid medication</th>\n",
       "      <th>sick</th>\n",
       "      <th>pregnant</th>\n",
       "      <th>thyroid surgery</th>\n",
       "      <th>I131 treatment</th>\n",
       "      <th>query hypothyroid</th>\n",
       "      <th>...</th>\n",
       "      <th>T3 measured</th>\n",
       "      <th>TT4 measured</th>\n",
       "      <th>TT4</th>\n",
       "      <th>T4U measured</th>\n",
       "      <th>T4U</th>\n",
       "      <th>FTI measured</th>\n",
       "      <th>FTI</th>\n",
       "      <th>TBG measured</th>\n",
       "      <th>referral source</th>\n",
       "      <th>Target_columns</th>\n",
       "    </tr>\n",
       "  </thead>\n",
       "  <tbody>\n",
       "    <tr>\n",
       "      <th>0</th>\n",
       "      <td>41</td>\n",
       "      <td>1.0</td>\n",
       "      <td>0</td>\n",
       "      <td>0</td>\n",
       "      <td>0</td>\n",
       "      <td>0</td>\n",
       "      <td>0</td>\n",
       "      <td>0</td>\n",
       "      <td>0</td>\n",
       "      <td>0</td>\n",
       "      <td>...</td>\n",
       "      <td>1</td>\n",
       "      <td>1</td>\n",
       "      <td>125</td>\n",
       "      <td>1</td>\n",
       "      <td>1.14</td>\n",
       "      <td>1</td>\n",
       "      <td>109</td>\n",
       "      <td>0</td>\n",
       "      <td>SVHC</td>\n",
       "      <td>1</td>\n",
       "    </tr>\n",
       "    <tr>\n",
       "      <th>1</th>\n",
       "      <td>23</td>\n",
       "      <td>1.0</td>\n",
       "      <td>0</td>\n",
       "      <td>0</td>\n",
       "      <td>0</td>\n",
       "      <td>0</td>\n",
       "      <td>0</td>\n",
       "      <td>0</td>\n",
       "      <td>0</td>\n",
       "      <td>0</td>\n",
       "      <td>...</td>\n",
       "      <td>1</td>\n",
       "      <td>1</td>\n",
       "      <td>102</td>\n",
       "      <td>0</td>\n",
       "      <td>NaN</td>\n",
       "      <td>0</td>\n",
       "      <td>NaN</td>\n",
       "      <td>0</td>\n",
       "      <td>other</td>\n",
       "      <td>1</td>\n",
       "    </tr>\n",
       "    <tr>\n",
       "      <th>2</th>\n",
       "      <td>46</td>\n",
       "      <td>0.0</td>\n",
       "      <td>0</td>\n",
       "      <td>0</td>\n",
       "      <td>0</td>\n",
       "      <td>0</td>\n",
       "      <td>0</td>\n",
       "      <td>0</td>\n",
       "      <td>0</td>\n",
       "      <td>0</td>\n",
       "      <td>...</td>\n",
       "      <td>0</td>\n",
       "      <td>1</td>\n",
       "      <td>109</td>\n",
       "      <td>1</td>\n",
       "      <td>0.91</td>\n",
       "      <td>1</td>\n",
       "      <td>120</td>\n",
       "      <td>0</td>\n",
       "      <td>other</td>\n",
       "      <td>1</td>\n",
       "    </tr>\n",
       "    <tr>\n",
       "      <th>3</th>\n",
       "      <td>70</td>\n",
       "      <td>1.0</td>\n",
       "      <td>1</td>\n",
       "      <td>0</td>\n",
       "      <td>0</td>\n",
       "      <td>0</td>\n",
       "      <td>0</td>\n",
       "      <td>0</td>\n",
       "      <td>0</td>\n",
       "      <td>0</td>\n",
       "      <td>...</td>\n",
       "      <td>1</td>\n",
       "      <td>1</td>\n",
       "      <td>175</td>\n",
       "      <td>0</td>\n",
       "      <td>NaN</td>\n",
       "      <td>0</td>\n",
       "      <td>NaN</td>\n",
       "      <td>0</td>\n",
       "      <td>other</td>\n",
       "      <td>1</td>\n",
       "    </tr>\n",
       "    <tr>\n",
       "      <th>4</th>\n",
       "      <td>70</td>\n",
       "      <td>1.0</td>\n",
       "      <td>0</td>\n",
       "      <td>0</td>\n",
       "      <td>0</td>\n",
       "      <td>0</td>\n",
       "      <td>0</td>\n",
       "      <td>0</td>\n",
       "      <td>0</td>\n",
       "      <td>0</td>\n",
       "      <td>...</td>\n",
       "      <td>1</td>\n",
       "      <td>1</td>\n",
       "      <td>61</td>\n",
       "      <td>1</td>\n",
       "      <td>0.87</td>\n",
       "      <td>1</td>\n",
       "      <td>70</td>\n",
       "      <td>0</td>\n",
       "      <td>SVI</td>\n",
       "      <td>1</td>\n",
       "    </tr>\n",
       "    <tr>\n",
       "      <th>...</th>\n",
       "      <td>...</td>\n",
       "      <td>...</td>\n",
       "      <td>...</td>\n",
       "      <td>...</td>\n",
       "      <td>...</td>\n",
       "      <td>...</td>\n",
       "      <td>...</td>\n",
       "      <td>...</td>\n",
       "      <td>...</td>\n",
       "      <td>...</td>\n",
       "      <td>...</td>\n",
       "      <td>...</td>\n",
       "      <td>...</td>\n",
       "      <td>...</td>\n",
       "      <td>...</td>\n",
       "      <td>...</td>\n",
       "      <td>...</td>\n",
       "      <td>...</td>\n",
       "      <td>...</td>\n",
       "      <td>...</td>\n",
       "      <td>...</td>\n",
       "    </tr>\n",
       "    <tr>\n",
       "      <th>3767</th>\n",
       "      <td>30</td>\n",
       "      <td>1.0</td>\n",
       "      <td>0</td>\n",
       "      <td>0</td>\n",
       "      <td>0</td>\n",
       "      <td>0</td>\n",
       "      <td>0</td>\n",
       "      <td>0</td>\n",
       "      <td>0</td>\n",
       "      <td>0</td>\n",
       "      <td>...</td>\n",
       "      <td>0</td>\n",
       "      <td>0</td>\n",
       "      <td>NaN</td>\n",
       "      <td>0</td>\n",
       "      <td>NaN</td>\n",
       "      <td>0</td>\n",
       "      <td>NaN</td>\n",
       "      <td>0</td>\n",
       "      <td>other</td>\n",
       "      <td>1</td>\n",
       "    </tr>\n",
       "    <tr>\n",
       "      <th>3768</th>\n",
       "      <td>68</td>\n",
       "      <td>1.0</td>\n",
       "      <td>0</td>\n",
       "      <td>0</td>\n",
       "      <td>0</td>\n",
       "      <td>0</td>\n",
       "      <td>0</td>\n",
       "      <td>0</td>\n",
       "      <td>0</td>\n",
       "      <td>0</td>\n",
       "      <td>...</td>\n",
       "      <td>1</td>\n",
       "      <td>1</td>\n",
       "      <td>124</td>\n",
       "      <td>1</td>\n",
       "      <td>1.08</td>\n",
       "      <td>1</td>\n",
       "      <td>114</td>\n",
       "      <td>0</td>\n",
       "      <td>SVI</td>\n",
       "      <td>1</td>\n",
       "    </tr>\n",
       "    <tr>\n",
       "      <th>3769</th>\n",
       "      <td>74</td>\n",
       "      <td>1.0</td>\n",
       "      <td>0</td>\n",
       "      <td>0</td>\n",
       "      <td>0</td>\n",
       "      <td>0</td>\n",
       "      <td>0</td>\n",
       "      <td>0</td>\n",
       "      <td>0</td>\n",
       "      <td>0</td>\n",
       "      <td>...</td>\n",
       "      <td>1</td>\n",
       "      <td>1</td>\n",
       "      <td>112</td>\n",
       "      <td>1</td>\n",
       "      <td>1.07</td>\n",
       "      <td>1</td>\n",
       "      <td>105</td>\n",
       "      <td>0</td>\n",
       "      <td>other</td>\n",
       "      <td>1</td>\n",
       "    </tr>\n",
       "    <tr>\n",
       "      <th>3770</th>\n",
       "      <td>72</td>\n",
       "      <td>0.0</td>\n",
       "      <td>0</td>\n",
       "      <td>0</td>\n",
       "      <td>0</td>\n",
       "      <td>0</td>\n",
       "      <td>0</td>\n",
       "      <td>0</td>\n",
       "      <td>0</td>\n",
       "      <td>0</td>\n",
       "      <td>...</td>\n",
       "      <td>1</td>\n",
       "      <td>1</td>\n",
       "      <td>82</td>\n",
       "      <td>1</td>\n",
       "      <td>0.94</td>\n",
       "      <td>1</td>\n",
       "      <td>87</td>\n",
       "      <td>0</td>\n",
       "      <td>SVI</td>\n",
       "      <td>1</td>\n",
       "    </tr>\n",
       "    <tr>\n",
       "      <th>3771</th>\n",
       "      <td>64</td>\n",
       "      <td>1.0</td>\n",
       "      <td>0</td>\n",
       "      <td>0</td>\n",
       "      <td>0</td>\n",
       "      <td>0</td>\n",
       "      <td>0</td>\n",
       "      <td>0</td>\n",
       "      <td>0</td>\n",
       "      <td>0</td>\n",
       "      <td>...</td>\n",
       "      <td>1</td>\n",
       "      <td>1</td>\n",
       "      <td>99</td>\n",
       "      <td>1</td>\n",
       "      <td>1.07</td>\n",
       "      <td>1</td>\n",
       "      <td>92</td>\n",
       "      <td>0</td>\n",
       "      <td>other</td>\n",
       "      <td>1</td>\n",
       "    </tr>\n",
       "  </tbody>\n",
       "</table>\n",
       "<p>3772 rows × 28 columns</p>\n",
       "</div>"
      ],
      "text/plain": [
       "     age  sex  on thyroxine  query on thyroxine  on antithyroid medication  \\\n",
       "0     41  1.0             0                   0                          0   \n",
       "1     23  1.0             0                   0                          0   \n",
       "2     46  0.0             0                   0                          0   \n",
       "3     70  1.0             1                   0                          0   \n",
       "4     70  1.0             0                   0                          0   \n",
       "...   ..  ...           ...                 ...                        ...   \n",
       "3767  30  1.0             0                   0                          0   \n",
       "3768  68  1.0             0                   0                          0   \n",
       "3769  74  1.0             0                   0                          0   \n",
       "3770  72  0.0             0                   0                          0   \n",
       "3771  64  1.0             0                   0                          0   \n",
       "\n",
       "      sick  pregnant  thyroid surgery  I131 treatment  query hypothyroid  ...  \\\n",
       "0        0         0                0               0                  0  ...   \n",
       "1        0         0                0               0                  0  ...   \n",
       "2        0         0                0               0                  0  ...   \n",
       "3        0         0                0               0                  0  ...   \n",
       "4        0         0                0               0                  0  ...   \n",
       "...    ...       ...              ...             ...                ...  ...   \n",
       "3767     0         0                0               0                  0  ...   \n",
       "3768     0         0                0               0                  0  ...   \n",
       "3769     0         0                0               0                  0  ...   \n",
       "3770     0         0                0               0                  0  ...   \n",
       "3771     0         0                0               0                  0  ...   \n",
       "\n",
       "      T3 measured  TT4 measured  TT4  T4U measured   T4U  FTI measured  FTI  \\\n",
       "0               1             1  125             1  1.14             1  109   \n",
       "1               1             1  102             0   NaN             0  NaN   \n",
       "2               0             1  109             1  0.91             1  120   \n",
       "3               1             1  175             0   NaN             0  NaN   \n",
       "4               1             1   61             1  0.87             1   70   \n",
       "...           ...           ...  ...           ...   ...           ...  ...   \n",
       "3767            0             0  NaN             0   NaN             0  NaN   \n",
       "3768            1             1  124             1  1.08             1  114   \n",
       "3769            1             1  112             1  1.07             1  105   \n",
       "3770            1             1   82             1  0.94             1   87   \n",
       "3771            1             1   99             1  1.07             1   92   \n",
       "\n",
       "     TBG measured  referral source  Target_columns  \n",
       "0               0             SVHC               1  \n",
       "1               0            other               1  \n",
       "2               0            other               1  \n",
       "3               0            other               1  \n",
       "4               0              SVI               1  \n",
       "...           ...              ...             ...  \n",
       "3767            0            other               1  \n",
       "3768            0              SVI               1  \n",
       "3769            0            other               1  \n",
       "3770            0              SVI               1  \n",
       "3771            0            other               1  \n",
       "\n",
       "[3772 rows x 28 columns]"
      ]
     },
     "execution_count": 16,
     "metadata": {},
     "output_type": "execute_result"
    }
   ],
   "source": [
    "df"
   ]
  },
  {
   "cell_type": "code",
   "execution_count": 17,
   "id": "df44329e",
   "metadata": {},
   "outputs": [
    {
     "data": {
      "text/plain": [
       "age                            1\n",
       "sex                          150\n",
       "on thyroxine                   0\n",
       "query on thyroxine             0\n",
       "on antithyroid medication      0\n",
       "sick                           0\n",
       "pregnant                       0\n",
       "thyroid surgery                0\n",
       "I131 treatment                 0\n",
       "query hypothyroid              0\n",
       "query hyperthyroid             0\n",
       "lithium                        0\n",
       "goitre                         0\n",
       "tumor                          0\n",
       "hypopituitary                  0\n",
       "psych                          0\n",
       "TSH measured                   0\n",
       "TSH                          369\n",
       "T3 measured                    0\n",
       "TT4 measured                   0\n",
       "TT4                          231\n",
       "T4U measured                   0\n",
       "T4U                          387\n",
       "FTI measured                   0\n",
       "FTI                          385\n",
       "TBG measured                   0\n",
       "referral source                0\n",
       "Target_columns                 0\n",
       "dtype: int64"
      ]
     },
     "execution_count": 17,
     "metadata": {},
     "output_type": "execute_result"
    }
   ],
   "source": [
    "df.isnull().sum()"
   ]
  },
  {
   "cell_type": "code",
   "execution_count": 18,
   "id": "990e2f51",
   "metadata": {},
   "outputs": [
    {
     "data": {
      "text/plain": [
       "age                             0\n",
       "sex                             0\n",
       "on thyroxine                    0\n",
       "query on thyroxine              0\n",
       "on antithyroid medication       0\n",
       "sick                            0\n",
       "pregnant                        0\n",
       "thyroid surgery                 0\n",
       "I131 treatment                  0\n",
       "query hypothyroid               0\n",
       "query hyperthyroid              0\n",
       "lithium                         0\n",
       "goitre                          0\n",
       "tumor                           0\n",
       "hypopituitary                   0\n",
       "psych                           0\n",
       "TSH measured                    0\n",
       "TSH                             0\n",
       "T3 measured                     0\n",
       "TT4 measured                    0\n",
       "TT4                             0\n",
       "T4U measured                    0\n",
       "T4U                             0\n",
       "FTI measured                    0\n",
       "FTI                             0\n",
       "TBG measured                    0\n",
       "referral source              3772\n",
       "Target_columns                  0\n",
       "dtype: int64"
      ]
     },
     "execution_count": 18,
     "metadata": {},
     "output_type": "execute_result"
    }
   ],
   "source": [
    "cols = df.columns[df.dtypes.eq('object')]\n",
    "df[cols] = df[cols].apply(pd.to_numeric, errors='coerce')\n",
    "df= df.interpolate(method = 'spline', order = 4)\n",
    "df.isna().sum()"
   ]
  },
  {
   "cell_type": "code",
   "execution_count": 19,
   "id": "fb0b3e15",
   "metadata": {},
   "outputs": [],
   "source": [
    "df=df.drop(['referral source'],axis='columns')"
   ]
  },
  {
   "cell_type": "code",
   "execution_count": 20,
   "id": "d700b3d1",
   "metadata": {},
   "outputs": [
    {
     "data": {
      "text/plain": [
       "(3772, 27)"
      ]
     },
     "execution_count": 20,
     "metadata": {},
     "output_type": "execute_result"
    }
   ],
   "source": [
    "df.shape"
   ]
  },
  {
   "cell_type": "code",
   "execution_count": 21,
   "id": "0025354f",
   "metadata": {},
   "outputs": [],
   "source": [
    "df['TSH']=df['TSH'].round(0)\n",
    "df['TT4']=df['TT4'].round(0)\n",
    "df['T4U']=df['T4U'].round(0)\n",
    "df['FTI']=df['FTI'].round(0)"
   ]
  },
  {
   "cell_type": "markdown",
   "id": "607c8d76",
   "metadata": {},
   "source": [
    "## Visuallization"
   ]
  },
  {
   "cell_type": "code",
   "execution_count": 22,
   "id": "19e36a8d",
   "metadata": {},
   "outputs": [],
   "source": [
    "import seaborn as sns"
   ]
  },
  {
   "cell_type": "code",
   "execution_count": 24,
   "id": "9286f9b9",
   "metadata": {},
   "outputs": [
    {
     "data": {
      "text/plain": [
       "<AxesSubplot:xlabel='pregnant', ylabel='count'>"
      ]
     },
     "execution_count": 24,
     "metadata": {},
     "output_type": "execute_result"
    },
    {
     "data": {
      "image/png": "[encoded data removed]",
      "text/plain": [
       "<Figure size 432x288 with 1 Axes>"
      ]
     },
     "metadata": {
      "needs_background": "light"
     },
     "output_type": "display_data"
    }
   ],
   "source": [
    "sns.countplot(x='pregnant',hue='Target_columns',data=df,palette='colorblind',edgecolor=sns.color_palette('dark',n_colors=1))"
   ]
  },
  {
   "cell_type": "code",
   "execution_count": 25,
   "id": "b304a62d",
   "metadata": {},
   "outputs": [
    {
     "data": {
      "text/plain": [
       "<AxesSubplot:xlabel='sick', ylabel='count'>"
      ]
     },
     "execution_count": 25,
     "metadata": {},
     "output_type": "execute_result"
    },
    {
     "data": {
      "image/png": "[encoded data removed]",
      "text/plain": [
       "<Figure size 432x288 with 1 Axes>"
      ]
     },
     "metadata": {
      "needs_background": "light"
     },
     "output_type": "display_data"
    }
   ],
   "source": [
    "sns.countplot(x='sick',hue='Target_columns',data=df,palette='colorblind',edgecolor=sns.color_palette('dark',n_colors=1))"
   ]
  },
  {
   "cell_type": "code",
   "execution_count": 26,
   "id": "12ceae2a",
   "metadata": {},
   "outputs": [
    {
     "data": {
      "text/plain": [
       "<AxesSubplot:xlabel='TSH measured', ylabel='count'>"
      ]
     },
     "execution_count": 26,
     "metadata": {},
     "output_type": "execute_result"
    },
    {
     "data": {
      "image/png": "[encoded data removed]",
      "text/plain": [
       "<Figure size 432x288 with 1 Axes>"
      ]
     },
     "metadata": {
      "needs_background": "light"
     },
     "output_type": "display_data"
    }
   ],
   "source": [
    "sns.countplot(x='TSH measured',hue='Target_columns',data=df,palette='colorblind',edgecolor=sns.color_palette('dark',n_colors=1))"
   ]
  },
  {
   "cell_type": "code",
   "execution_count": 27,
   "id": "8a1cdfee",
   "metadata": {},
   "outputs": [
    {
     "data": {
      "text/plain": [
       "<AxesSubplot:xlabel='T4U', ylabel='count'>"
      ]
     },
     "execution_count": 27,
     "metadata": {},
     "output_type": "execute_result"
    },
    {
     "data": {
      "image/png": "[encoded data removed]",
      "text/plain": [
       "<Figure size 432x288 with 1 Axes>"
      ]
     },
     "metadata": {
      "needs_background": "light"
     },
     "output_type": "display_data"
    }
   ],
   "source": [
    "sns.countplot(x='T4U',hue='Target_columns',data=df,palette='colorblind',edgecolor=sns.color_palette('dark',n_colors=1))"
   ]
  },
  {
   "cell_type": "code",
   "execution_count": 28,
   "id": "4534cfab",
   "metadata": {},
   "outputs": [
    {
     "data": {
      "text/plain": [
       "<AxesSubplot:xlabel='psych', ylabel='count'>"
      ]
     },
     "execution_count": 28,
     "metadata": {},
     "output_type": "execute_result"
    },
    {
     "data": {
      "image/png": "[encoded data removed]",
      "text/plain": [
       "<Figure size 432x288 with 1 Axes>"
      ]
     },
     "metadata": {
      "needs_background": "light"
     },
     "output_type": "display_data"
    }
   ],
   "source": [
    "sns.countplot(x='psych',hue='Target_columns',data=df,palette='colorblind',edgecolor=sns.color_palette('dark',n_colors=1))"
   ]
  },
  {
   "cell_type": "code",
   "execution_count": 29,
   "id": "dc9cfdc5",
   "metadata": {},
   "outputs": [],
   "source": [
    "x=df.iloc[:,:-1]\n",
    "y=df.iloc[:,26]"
   ]
  },
  {
   "cell_type": "code",
   "execution_count": 30,
   "id": "df5d25c6",
   "metadata": {},
   "outputs": [],
   "source": [
    "from sklearn.model_selection import train_test_split\n",
    "xtrain, xtest, ytrain, ytest = train_test_split(x, y, test_size=0.25, random_state=5)"
   ]
  },
  {
   "cell_type": "code",
   "execution_count": 31,
   "id": "75ef9604",
   "metadata": {},
   "outputs": [],
   "source": [
    "from sklearn.ensemble import RandomForestClassifier\n",
    "from sklearn.tree import DecisionTreeClassifier\n",
    "from sklearn.ensemble import AdaBoostClassifier\n",
    "from sklearn.ensemble import GradientBoostingClassifier\n",
    "from sklearn.linear_model import LogisticRegression\n",
    "from sklearn.neighbors import KNeighborsClassifier"
   ]
  },
  {
   "cell_type": "code",
   "execution_count": 32,
   "id": "d482fac3",
   "metadata": {},
   "outputs": [],
   "source": [
    "classifiers = {\n",
    "    \"Random Forest\" : RandomForestClassifier(n_estimators=5,criterion='entropy',random_state=10),\n",
    "    \"Decision Tree\" : DecisionTreeClassifier(criterion='entropy',max_depth=2,random_state=10),\n",
    "    \"Adaboost Classifier\" : AdaBoostClassifier(n_estimators=5,random_state=10),\n",
    "    \"Gradient Boost\" : GradientBoostingClassifier(max_features=2,max_depth=2,random_state=10),\n",
    "    \"Logistic Regression\" : LogisticRegression(solver='liblinear', random_state=10),\n",
    "    \"K-Neighbors\" : KNeighborsClassifier(algorithm='auto', metric='minkowski', n_neighbors=5)\n",
    "}"
   ]
  },
  {
   "cell_type": "code",
   "execution_count": 33,
   "id": "199a254c",
   "metadata": {},
   "outputs": [],
   "source": [
    "from sklearn import metrics"
   ]
  },
  {
   "cell_type": "markdown",
   "id": "70f90323",
   "metadata": {},
   "source": [
    "## Performance Measure"
   ]
  },
  {
   "cell_type": "code",
   "execution_count": 34,
   "id": "823ce656",
   "metadata": {},
   "outputs": [
    {
     "name": "stderr",
     "output_type": "stream",
     "text": [
      "C:\\Users\\Shourav Molla\\AppData\\Local\\Temp\\ipykernel_1564\\3291617966.py:11: FutureWarning: The frame.append method is deprecated and will be removed from pandas in a future version. Use pandas.concat instead.\n",
      "  res = res.append({\"Classifier\": name,\"Accuracy\": round(metrics.accuracy_score(ytest, ypred), 4),\n",
      "C:\\Users\\Shourav Molla\\AppData\\Local\\Temp\\ipykernel_1564\\3291617966.py:11: FutureWarning: The frame.append method is deprecated and will be removed from pandas in a future version. Use pandas.concat instead.\n",
      "  res = res.append({\"Classifier\": name,\"Accuracy\": round(metrics.accuracy_score(ytest, ypred), 4),\n",
      "C:\\Users\\Shourav Molla\\AppData\\Local\\Temp\\ipykernel_1564\\3291617966.py:11: FutureWarning: The frame.append method is deprecated and will be removed from pandas in a future version. Use pandas.concat instead.\n",
      "  res = res.append({\"Classifier\": name,\"Accuracy\": round(metrics.accuracy_score(ytest, ypred), 4),\n",
      "C:\\Users\\Shourav Molla\\AppData\\Local\\Temp\\ipykernel_1564\\3291617966.py:11: FutureWarning: The frame.append method is deprecated and will be removed from pandas in a future version. Use pandas.concat instead.\n",
      "  res = res.append({\"Classifier\": name,\"Accuracy\": round(metrics.accuracy_score(ytest, ypred), 4),\n",
      "C:\\Users\\Shourav Molla\\AppData\\Local\\Temp\\ipykernel_1564\\3291617966.py:11: FutureWarning: The frame.append method is deprecated and will be removed from pandas in a future version. Use pandas.concat instead.\n",
      "  res = res.append({\"Classifier\": name,\"Accuracy\": round(metrics.accuracy_score(ytest, ypred), 4),\n",
      "C:\\Users\\Shourav Molla\\AppData\\Local\\Temp\\ipykernel_1564\\3291617966.py:11: FutureWarning: The frame.append method is deprecated and will be removed from pandas in a future version. Use pandas.concat instead.\n",
      "  res = res.append({\"Classifier\": name,\"Accuracy\": round(metrics.accuracy_score(ytest, ypred), 4),\n",
      "C:\\Users\\Shourav Molla\\anaconda3\\lib\\site-packages\\pandas\\core\\indexes\\base.py:6982: FutureWarning: In a future version, the Index constructor will not infer numeric dtypes when passed object-dtype sequences (matching Series behavior)\n",
      "  return Index(sequences[0], name=names)\n"
     ]
    },
    {
     "data": {
      "text/html": [
       "<div>\n",
       "<style scoped>\n",
       "    .dataframe tbody tr th:only-of-type {\n",
       "        vertical-align: middle;\n",
       "    }\n",
       "\n",
       "    .dataframe tbody tr th {\n",
       "        vertical-align: top;\n",
       "    }\n",
       "\n",
       "    .dataframe thead th {\n",
       "        text-align: right;\n",
       "    }\n",
       "</style>\n",
       "<table border=\"1\" class=\"dataframe\">\n",
       "  <thead>\n",
       "    <tr style=\"text-align: right;\">\n",
       "      <th></th>\n",
       "      <th>Classifier</th>\n",
       "      <th>Precision</th>\n",
       "      <th>Recall</th>\n",
       "      <th>F1Score</th>\n",
       "    </tr>\n",
       "    <tr>\n",
       "      <th>Accuracy</th>\n",
       "      <th></th>\n",
       "      <th></th>\n",
       "      <th></th>\n",
       "      <th></th>\n",
       "    </tr>\n",
       "  </thead>\n",
       "  <tbody>\n",
       "    <tr>\n",
       "      <th>0.9873</th>\n",
       "      <td>Gradient Boost</td>\n",
       "      <td>0.976</td>\n",
       "      <td>0.9459</td>\n",
       "      <td>0.9604</td>\n",
       "    </tr>\n",
       "    <tr>\n",
       "      <th>0.9852</th>\n",
       "      <td>Random Forest</td>\n",
       "      <td>0.9397</td>\n",
       "      <td>0.9761</td>\n",
       "      <td>0.957</td>\n",
       "    </tr>\n",
       "    <tr>\n",
       "      <th>0.9830</th>\n",
       "      <td>Adaboost Classifier</td>\n",
       "      <td>0.9576</td>\n",
       "      <td>0.9384</td>\n",
       "      <td>0.9477</td>\n",
       "    </tr>\n",
       "    <tr>\n",
       "      <th>0.9661</th>\n",
       "      <td>Decision Tree</td>\n",
       "      <td>0.8658</td>\n",
       "      <td>0.9761</td>\n",
       "      <td>0.9113</td>\n",
       "    </tr>\n",
       "    <tr>\n",
       "      <th>0.9364</th>\n",
       "      <td>K-Neighbors</td>\n",
       "      <td>0.8694</td>\n",
       "      <td>0.6982</td>\n",
       "      <td>0.7521</td>\n",
       "    </tr>\n",
       "    <tr>\n",
       "      <th>0.9279</th>\n",
       "      <td>Logistic Regression</td>\n",
       "      <td>0.8425</td>\n",
       "      <td>0.6517</td>\n",
       "      <td>0.702</td>\n",
       "    </tr>\n",
       "  </tbody>\n",
       "</table>\n",
       "</div>"
      ],
      "text/plain": [
       "                   Classifier Precision  Recall F1Score\n",
       "Accuracy                                               \n",
       "0.9873         Gradient Boost     0.976  0.9459  0.9604\n",
       "0.9852          Random Forest    0.9397  0.9761   0.957\n",
       "0.9830    Adaboost Classifier    0.9576  0.9384  0.9477\n",
       "0.9661          Decision Tree    0.8658  0.9761  0.9113\n",
       "0.9364            K-Neighbors    0.8694  0.6982  0.7521\n",
       "0.9279    Logistic Regression    0.8425  0.6517   0.702"
      ]
     },
     "metadata": {},
     "output_type": "display_data"
    }
   ],
   "source": [
    "def classification(classifiers):\n",
    "  res = pd.DataFrame(columns=[\"Classifier\", \n",
    "                                \"Accuracy\", \n",
    "                                \"Precision\", \n",
    "                                \"Recall\", \n",
    "                                \"F1Score\"])\n",
    "  for name, clf in classifiers.items():\n",
    "            clf.fit(xtrain, ytrain)\n",
    "            ypred = clf.predict(xtest)\n",
    "            pr, rc, fs, sup = metrics.precision_recall_fscore_support(ytest, ypred, average='macro')\n",
    "            res = res.append({\"Classifier\": name,\"Accuracy\": round(metrics.accuracy_score(ytest, ypred), 4),\n",
    "                              \"Precision\": round(pr, 4), \"Recall\":round(rc, 4), \"F1Score\":round(fs, 4)}, ignore_index=True)\n",
    "                 \n",
    "  res.set_index(\"Accuracy\", inplace=True)\n",
    "  res.sort_values(by=\"Accuracy\", ascending=False, inplace=True)   \n",
    "  return res\n",
    "\n",
    "display(classification(classifiers))"
   ]
  },
  {
   "cell_type": "code",
   "execution_count": 35,
   "id": "e87e8bcf",
   "metadata": {},
   "outputs": [],
   "source": [
    "import sklearn.metrics as metrik"
   ]
  },
  {
   "cell_type": "markdown",
   "id": "1b4479db",
   "metadata": {},
   "source": [
    "## import sklearn.metrics as metrik"
   ]
  },
  {
   "cell_type": "code",
   "execution_count": 37,
   "id": "0c15231c",
   "metadata": {},
   "outputs": [
    {
     "name": "stdout",
     "output_type": "stream",
     "text": [
      "0.985153764581124\n",
      "[[ 83   3]\n",
      " [ 11 846]]\n"
     ]
    },
    {
     "data": {
      "text/plain": [
       "<AxesSubplot:>"
      ]
     },
     "execution_count": 37,
     "metadata": {},
     "output_type": "execute_result"
    },
    {
     "data": {
      "image/png": "[encoded data removed]",
      "text/plain": [
       "<Figure size 432x288 with 2 Axes>"
      ]
     },
     "metadata": {
      "needs_background": "light"
     },
     "output_type": "display_data"
    }
   ],
   "source": [
    "rcl=RandomForestClassifier(n_estimators=5,criterion='entropy',random_state=10)\n",
    "rcl.fit(xtrain,ytrain)\n",
    "ypred=rcl.predict(xtest)\n",
    "print(metrik.accuracy_score(y_pred=ypred,y_true=ytest))\n",
    "cm_rcl=metrik.confusion_matrix(y_pred=ypred,y_true=ytest)\n",
    "print(cm_rcl)\n",
    "sns.heatmap(cm_rcl, annot=True)"
   ]
  },
  {
   "cell_type": "code",
   "execution_count": 38,
   "id": "09a537c7",
   "metadata": {},
   "outputs": [
    {
     "name": "stdout",
     "output_type": "stream",
     "text": [
      "0.9660657476139979\n",
      "[[ 85   1]\n",
      " [ 31 826]]\n"
     ]
    },
    {
     "data": {
      "text/plain": [
       "<AxesSubplot:>"
      ]
     },
     "execution_count": 38,
     "metadata": {},
     "output_type": "execute_result"
    },
    {
     "data": {
      "image/png": "[encoded data removed]",
      "text/plain": [
       "<Figure size 432x288 with 2 Axes>"
      ]
     },
     "metadata": {
      "needs_background": "light"
     },
     "output_type": "display_data"
    }
   ],
   "source": [
    "dct=DecisionTreeClassifier(criterion='entropy',max_depth=2,random_state=10)\n",
    "dct.fit(xtrain,ytrain)\n",
    "ypred=dct.predict(xtest)\n",
    "print(metrik.accuracy_score(y_pred=ypred,y_true=ytest))\n",
    "cm_dct=metrik.confusion_matrix(y_pred=ypred,y_true=ytest)\n",
    "print(cm_dct)\n",
    "sns.heatmap(cm_dct, annot=True)"
   ]
  },
  {
   "cell_type": "code",
   "execution_count": 39,
   "id": "b669b45f",
   "metadata": {},
   "outputs": [
    {
     "name": "stdout",
     "output_type": "stream",
     "text": [
      "0.9830328738069989\n",
      "[[ 76  10]\n",
      " [  6 851]]\n"
     ]
    },
    {
     "data": {
      "text/plain": [
       "<AxesSubplot:>"
      ]
     },
     "execution_count": 39,
     "metadata": {},
     "output_type": "execute_result"
    },
    {
     "data": {
      "image/png": "[encoded data removed]",
      "text/plain": [
       "<Figure size 432x288 with 2 Axes>"
      ]
     },
     "metadata": {
      "needs_background": "light"
     },
     "output_type": "display_data"
    }
   ],
   "source": [
    "adm=AdaBoostClassifier(n_estimators=5,random_state=10)\n",
    "adm.fit(xtrain,ytrain)\n",
    "ypred=adm.predict(xtest)\n",
    "print(metrik.accuracy_score(y_pred=ypred,y_true=ytest))\n",
    "cm_adm=metrik.confusion_matrix(y_pred=ypred,y_true=ytest)\n",
    "print(cm_adm)\n",
    "sns.heatmap(cm_adm, annot=True)"
   ]
  },
  {
   "cell_type": "code",
   "execution_count": 40,
   "id": "72da9b0b",
   "metadata": {},
   "outputs": [
    {
     "name": "stdout",
     "output_type": "stream",
     "text": [
      "0.9872746553552492\n",
      "[[ 77   9]\n",
      " [  3 854]]\n"
     ]
    },
    {
     "data": {
      "text/plain": [
       "<AxesSubplot:>"
      ]
     },
     "execution_count": 40,
     "metadata": {},
     "output_type": "execute_result"
    },
    {
     "data": {
      "image/png": "[encoded data removed]",
      "text/plain": [
       "<Figure size 432x288 with 2 Axes>"
      ]
     },
     "metadata": {
      "needs_background": "light"
     },
     "output_type": "display_data"
    }
   ],
   "source": [
    "gdb=GradientBoostingClassifier(max_features=2,max_depth=2,random_state=10)\n",
    "gdb.fit(xtrain,ytrain)\n",
    "ypred=gdb.predict(xtest)\n",
    "print(metrik.accuracy_score(y_pred=ypred,y_true=ytest))\n",
    "cm_gdb=metrik.confusion_matrix(y_pred=ypred,y_true=ytest)\n",
    "print(cm_gdb)\n",
    "sns.heatmap(cm_gdb, annot=True)"
   ]
  },
  {
   "cell_type": "code",
   "execution_count": 41,
   "id": "fc2a0018",
   "metadata": {},
   "outputs": [
    {
     "name": "stdout",
     "output_type": "stream",
     "text": [
      "0.9278897136797455\n",
      "[[ 27  59]\n",
      " [  9 848]]\n"
     ]
    },
    {
     "data": {
      "text/plain": [
       "<AxesSubplot:>"
      ]
     },
     "execution_count": 41,
     "metadata": {},
     "output_type": "execute_result"
    },
    {
     "data": {
      "image/png": "[encoded data removed]",
      "text/plain": [
       "<Figure size 432x288 with 2 Axes>"
      ]
     },
     "metadata": {
      "needs_background": "light"
     },
     "output_type": "display_data"
    }
   ],
   "source": [
    "lgr=LogisticRegression(solver='liblinear', random_state=10)\n",
    "lgr.fit(xtrain,ytrain)\n",
    "ypred=lgr.predict(xtest)\n",
    "print(metrik.accuracy_score(y_pred=ypred,y_true=ytest))\n",
    "cm_lgr=metrik.confusion_matrix(y_pred=ypred,y_true=ytest)\n",
    "print(cm_lgr)\n",
    "sns.heatmap(cm_lgr, annot=True)"
   ]
  },
  {
   "cell_type": "code",
   "execution_count": 42,
   "id": "29efd197",
   "metadata": {},
   "outputs": [
    {
     "name": "stdout",
     "output_type": "stream",
     "text": [
      "0.936373276776246\n",
      "[[ 35  51]\n",
      " [  9 848]]\n"
     ]
    },
    {
     "data": {
      "text/plain": [
       "<AxesSubplot:>"
      ]
     },
     "execution_count": 42,
     "metadata": {},
     "output_type": "execute_result"
    },
    {
     "data": {
      "image/png": "[encoded data removed]",
      "text/plain": [
       "<Figure size 432x288 with 2 Axes>"
      ]
     },
     "metadata": {
      "needs_background": "light"
     },
     "output_type": "display_data"
    }
   ],
   "source": [
    "knc=KNeighborsClassifier(algorithm='auto', metric='minkowski', n_neighbors=5)\n",
    "knc.fit(xtrain,ytrain)\n",
    "ypred=knc.predict(xtest)\n",
    "print(metrik.accuracy_score(y_pred=ypred,y_true=ytest))\n",
    "cm_knc=metrik.confusion_matrix(y_pred=ypred,y_true=ytest)\n",
    "print(cm_knc)\n",
    "sns.heatmap(cm_lgr, annot=True)"
   ]
  },
  {
   "cell_type": "markdown",
   "id": "03cd3648",
   "metadata": {},
   "source": [
    "## Feature Selection By Feature Importance"
   ]
  },
  {
   "cell_type": "code",
   "execution_count": 43,
   "id": "fc96f98a",
   "metadata": {},
   "outputs": [
    {
     "data": {
      "text/plain": [
       "ExtraTreesClassifier()"
      ]
     },
     "execution_count": 43,
     "metadata": {},
     "output_type": "execute_result"
    }
   ],
   "source": [
    "from sklearn.ensemble import ExtraTreesClassifier\n",
    "model=ExtraTreesClassifier()\n",
    "model.fit(x,y)"
   ]
  },
  {
   "cell_type": "code",
   "execution_count": 44,
   "id": "fe166719",
   "metadata": {},
   "outputs": [
    {
     "data": {
      "text/plain": [
       "age                          0.063313\n",
       "sex                          0.015960\n",
       "on thyroxine                 0.014230\n",
       "query on thyroxine           0.002540\n",
       "on antithyroid medication    0.001575\n",
       "sick                         0.007405\n",
       "pregnant                     0.001066\n",
       "thyroid surgery              0.007870\n",
       "I131 treatment               0.003602\n",
       "query hypothyroid            0.010311\n",
       "query hyperthyroid           0.005214\n",
       "lithium                      0.001123\n",
       "goitre                       0.000913\n",
       "tumor                        0.005089\n",
       "hypopituitary                0.000029\n",
       "psych                        0.003657\n",
       "TSH measured                 0.013601\n",
       "TSH                          0.553766\n",
       "T3 measured                  0.008702\n",
       "TT4 measured                 0.004105\n",
       "TT4                          0.127525\n",
       "T4U measured                 0.005837\n",
       "T4U                          0.004472\n",
       "FTI measured                 0.005535\n",
       "FTI                          0.132561\n",
       "TBG measured                 0.000000\n",
       "dtype: float64"
      ]
     },
     "execution_count": 44,
     "metadata": {},
     "output_type": "execute_result"
    }
   ],
   "source": [
    "top=pd.Series(model.feature_importances_,index=x.columns)\n",
    "top"
   ]
  },
  {
   "cell_type": "code",
   "execution_count": 45,
   "id": "1a020a7b",
   "metadata": {},
   "outputs": [
    {
     "data": {
      "text/plain": [
       "TSH                  0.553766\n",
       "FTI                  0.132561\n",
       "TT4                  0.127525\n",
       "age                  0.063313\n",
       "sex                  0.015960\n",
       "on thyroxine         0.014230\n",
       "TSH measured         0.013601\n",
       "query hypothyroid    0.010311\n",
       "T3 measured          0.008702\n",
       "thyroid surgery      0.007870\n",
       "sick                 0.007405\n",
       "T4U measured         0.005837\n",
       "dtype: float64"
      ]
     },
     "execution_count": 45,
     "metadata": {},
     "output_type": "execute_result"
    }
   ],
   "source": [
    "top.nlargest(12)"
   ]
  },
  {
   "cell_type": "code",
   "execution_count": 46,
   "id": "aff39991",
   "metadata": {},
   "outputs": [
    {
     "data": {
      "text/plain": [
       "<AxesSubplot:>"
      ]
     },
     "execution_count": 46,
     "metadata": {},
     "output_type": "execute_result"
    },
    {
     "data": {
      "image/png": "[encoded data removed]",
      "text/plain": [
       "<Figure size 432x288 with 1 Axes>"
      ]
     },
     "metadata": {
      "needs_background": "light"
     },
     "output_type": "display_data"
    }
   ],
   "source": [
    "top.nlargest(12).plot(kind='bar')"
   ]
  },
  {
   "cell_type": "markdown",
   "id": "493a4ed6",
   "metadata": {},
   "source": [
    "## Evaluate Selected Feature"
   ]
  },
  {
   "cell_type": "code",
   "execution_count": 47,
   "id": "5045179b",
   "metadata": {},
   "outputs": [],
   "source": [
    "x1=x.drop([\"TBG measured\",\"query hypothyroid\",\"FTI measured\",\"T4U\",\"psych\",\"hypopituitary\",\"tumor\",\"goitre\",\"lithium\",\"query hyperthyroid\",\"I131 treatment\",\"pregnant\",\"on antithyroid medication\",\"on thyroxine\"],axis='columns')"
   ]
  },
  {
   "cell_type": "code",
   "execution_count": 48,
   "id": "9d22cf13",
   "metadata": {},
   "outputs": [],
   "source": [
    "from sklearn.model_selection import train_test_split\n",
    "xtrain_A, xtest_A, ytrain_A, ytest_A = train_test_split(x1, y, test_size=0.25, random_state=5)"
   ]
  },
  {
   "cell_type": "code",
   "execution_count": 49,
   "id": "69389a87",
   "metadata": {},
   "outputs": [],
   "source": [
    "classifiers_A = {\n",
    "    \"Random Forest\" : RandomForestClassifier(n_estimators=5,criterion='entropy',random_state=10),\n",
    "    \"Decision Tree\" : DecisionTreeClassifier(criterion='entropy',max_depth=2,random_state=10),\n",
    "    \"Adaboost Classifier\" : AdaBoostClassifier(n_estimators=5,random_state=10),\n",
    "    \"Gradient Boost\" : GradientBoostingClassifier(max_features=2,max_depth=2,random_state=10),\n",
    "    \"Logistic Regression\" : LogisticRegression(solver='liblinear', random_state=10),\n",
    "    \"K-Neighbors\" : KNeighborsClassifier(algorithm='auto', metric='minkowski', n_neighbors=5)\n",
    "}"
   ]
  },
  {
   "cell_type": "markdown",
   "id": "50fb5abd",
   "metadata": {},
   "source": [
    "## Performance Measure"
   ]
  },
  {
   "cell_type": "code",
   "execution_count": 50,
   "id": "f5186392",
   "metadata": {},
   "outputs": [
    {
     "name": "stderr",
     "output_type": "stream",
     "text": [
      "C:\\Users\\Shourav Molla\\AppData\\Local\\Temp\\ipykernel_1564\\3659853889.py:11: FutureWarning: The frame.append method is deprecated and will be removed from pandas in a future version. Use pandas.concat instead.\n",
      "  res = res.append({\"Classifier\": name,\"Accuracy\": round(metrics.accuracy_score(ytest_A, ypred_A), 4),\n",
      "C:\\Users\\Shourav Molla\\AppData\\Local\\Temp\\ipykernel_1564\\3659853889.py:11: FutureWarning: The frame.append method is deprecated and will be removed from pandas in a future version. Use pandas.concat instead.\n",
      "  res = res.append({\"Classifier\": name,\"Accuracy\": round(metrics.accuracy_score(ytest_A, ypred_A), 4),\n",
      "C:\\Users\\Shourav Molla\\AppData\\Local\\Temp\\ipykernel_1564\\3659853889.py:11: FutureWarning: The frame.append method is deprecated and will be removed from pandas in a future version. Use pandas.concat instead.\n",
      "  res = res.append({\"Classifier\": name,\"Accuracy\": round(metrics.accuracy_score(ytest_A, ypred_A), 4),\n",
      "C:\\Users\\Shourav Molla\\AppData\\Local\\Temp\\ipykernel_1564\\3659853889.py:11: FutureWarning: The frame.append method is deprecated and will be removed from pandas in a future version. Use pandas.concat instead.\n",
      "  res = res.append({\"Classifier\": name,\"Accuracy\": round(metrics.accuracy_score(ytest_A, ypred_A), 4),\n",
      "C:\\Users\\Shourav Molla\\AppData\\Local\\Temp\\ipykernel_1564\\3659853889.py:11: FutureWarning: The frame.append method is deprecated and will be removed from pandas in a future version. Use pandas.concat instead.\n",
      "  res = res.append({\"Classifier\": name,\"Accuracy\": round(metrics.accuracy_score(ytest_A, ypred_A), 4),\n",
      "C:\\Users\\Shourav Molla\\AppData\\Local\\Temp\\ipykernel_1564\\3659853889.py:11: FutureWarning: The frame.append method is deprecated and will be removed from pandas in a future version. Use pandas.concat instead.\n",
      "  res = res.append({\"Classifier\": name,\"Accuracy\": round(metrics.accuracy_score(ytest_A, ypred_A), 4),\n",
      "C:\\Users\\Shourav Molla\\anaconda3\\lib\\site-packages\\pandas\\core\\indexes\\base.py:6982: FutureWarning: In a future version, the Index constructor will not infer numeric dtypes when passed object-dtype sequences (matching Series behavior)\n",
      "  return Index(sequences[0], name=names)\n"
     ]
    },
    {
     "data": {
      "text/html": [
       "<div>\n",
       "<style scoped>\n",
       "    .dataframe tbody tr th:only-of-type {\n",
       "        vertical-align: middle;\n",
       "    }\n",
       "\n",
       "    .dataframe tbody tr th {\n",
       "        vertical-align: top;\n",
       "    }\n",
       "\n",
       "    .dataframe thead th {\n",
       "        text-align: right;\n",
       "    }\n",
       "</style>\n",
       "<table border=\"1\" class=\"dataframe\">\n",
       "  <thead>\n",
       "    <tr style=\"text-align: right;\">\n",
       "      <th></th>\n",
       "      <th>Classifier</th>\n",
       "      <th>Precision</th>\n",
       "      <th>Recall</th>\n",
       "      <th>F1Score</th>\n",
       "    </tr>\n",
       "    <tr>\n",
       "      <th>Accuracy</th>\n",
       "      <th></th>\n",
       "      <th></th>\n",
       "      <th></th>\n",
       "      <th></th>\n",
       "    </tr>\n",
       "  </thead>\n",
       "  <tbody>\n",
       "    <tr>\n",
       "      <th>0.9767</th>\n",
       "      <td>Adaboost Classifier</td>\n",
       "      <td>0.9192</td>\n",
       "      <td>0.9453</td>\n",
       "      <td>0.9318</td>\n",
       "    </tr>\n",
       "    <tr>\n",
       "      <th>0.9703</th>\n",
       "      <td>Gradient Boost</td>\n",
       "      <td>0.9214</td>\n",
       "      <td>0.8947</td>\n",
       "      <td>0.9075</td>\n",
       "    </tr>\n",
       "    <tr>\n",
       "      <th>0.9671</th>\n",
       "      <td>Random Forest</td>\n",
       "      <td>0.917</td>\n",
       "      <td>0.8773</td>\n",
       "      <td>0.8959</td>\n",
       "    </tr>\n",
       "    <tr>\n",
       "      <th>0.9661</th>\n",
       "      <td>Decision Tree</td>\n",
       "      <td>0.8658</td>\n",
       "      <td>0.9761</td>\n",
       "      <td>0.9113</td>\n",
       "    </tr>\n",
       "    <tr>\n",
       "      <th>0.9364</th>\n",
       "      <td>K-Neighbors</td>\n",
       "      <td>0.8694</td>\n",
       "      <td>0.6982</td>\n",
       "      <td>0.7521</td>\n",
       "    </tr>\n",
       "    <tr>\n",
       "      <th>0.9279</th>\n",
       "      <td>Logistic Regression</td>\n",
       "      <td>0.8493</td>\n",
       "      <td>0.6465</td>\n",
       "      <td>0.6974</td>\n",
       "    </tr>\n",
       "  </tbody>\n",
       "</table>\n",
       "</div>"
      ],
      "text/plain": [
       "                   Classifier Precision  Recall F1Score\n",
       "Accuracy                                               \n",
       "0.9767    Adaboost Classifier    0.9192  0.9453  0.9318\n",
       "0.9703         Gradient Boost    0.9214  0.8947  0.9075\n",
       "0.9671          Random Forest     0.917  0.8773  0.8959\n",
       "0.9661          Decision Tree    0.8658  0.9761  0.9113\n",
       "0.9364            K-Neighbors    0.8694  0.6982  0.7521\n",
       "0.9279    Logistic Regression    0.8493  0.6465  0.6974"
      ]
     },
     "metadata": {},
     "output_type": "display_data"
    }
   ],
   "source": [
    "def classification(classifiers_A):\n",
    "  res = pd.DataFrame(columns=[\"Classifier\", \n",
    "                                \"Accuracy\", \n",
    "                                \"Precision\", \n",
    "                                \"Recall\", \n",
    "                                \"F1Score\"])\n",
    "  for name, clf in classifiers.items():\n",
    "            clf.fit(xtrain_A, ytrain_A)\n",
    "            ypred_A = clf.predict(xtest_A)\n",
    "            pr, rc, fs, sup = metrics.precision_recall_fscore_support(ytest_A, ypred_A, average='macro')\n",
    "            res = res.append({\"Classifier\": name,\"Accuracy\": round(metrics.accuracy_score(ytest_A, ypred_A), 4),\n",
    "                              \"Precision\": round(pr, 4), \"Recall\":round(rc, 4), \"F1Score\":round(fs, 4)}, ignore_index=True)\n",
    "                 \n",
    "  res.set_index(\"Accuracy\", inplace=True)\n",
    "  res.sort_values(by=\"Accuracy\", ascending=False, inplace=True)   \n",
    "  return res\n",
    "\n",
    "display(classification(classifiers_A))"
   ]
  },
  {
   "cell_type": "markdown",
   "id": "8f8a0fb1",
   "metadata": {},
   "source": [
    "## Confusion Matrix"
   ]
  },
  {
   "cell_type": "code",
   "execution_count": 51,
   "id": "efc68bb9",
   "metadata": {},
   "outputs": [
    {
     "name": "stdout",
     "output_type": "stream",
     "text": [
      "0.9671261930010604\n",
      "[[ 66  20]\n",
      " [ 11 846]]\n"
     ]
    },
    {
     "data": {
      "text/plain": [
       "<AxesSubplot:>"
      ]
     },
     "execution_count": 51,
     "metadata": {},
     "output_type": "execute_result"
    },
    {
     "data": {
      "image/png": "[encoded data removed]",
      "text/plain": [
       "<Figure size 432x288 with 2 Axes>"
      ]
     },
     "metadata": {
      "needs_background": "light"
     },
     "output_type": "display_data"
    }
   ],
   "source": [
    "rcl_A=RandomForestClassifier(n_estimators=5,criterion='entropy',random_state=10)\n",
    "rcl_A.fit(xtrain_A,ytrain_A)\n",
    "ypred_A=rcl_A.predict(xtest_A)\n",
    "print(metrik.accuracy_score(y_pred=ypred_A,y_true=ytest_A))\n",
    "cm_rcl_A=metrik.confusion_matrix(y_pred=ypred_A,y_true=ytest_A)\n",
    "print(cm_rcl_A)\n",
    "sns.heatmap(cm_rcl_A, annot=True)"
   ]
  },
  {
   "cell_type": "code",
   "execution_count": 52,
   "id": "21e4022d",
   "metadata": {},
   "outputs": [
    {
     "name": "stdout",
     "output_type": "stream",
     "text": [
      "0.9660657476139979\n",
      "[[ 85   1]\n",
      " [ 31 826]]\n"
     ]
    },
    {
     "data": {
      "text/plain": [
       "<AxesSubplot:>"
      ]
     },
     "execution_count": 52,
     "metadata": {},
     "output_type": "execute_result"
    },
    {
     "data": {
      "image/png": "[encoded data removed]",
      "text/plain": [
       "<Figure size 432x288 with 2 Axes>"
      ]
     },
     "metadata": {
      "needs_background": "light"
     },
     "output_type": "display_data"
    }
   ],
   "source": [
    "dct_A=DecisionTreeClassifier(criterion='entropy',max_depth=2,random_state=10)\n",
    "dct_A.fit(xtrain_A,ytrain_A)\n",
    "ypred_A=dct_A.predict(xtest_A)\n",
    "print(metrik.accuracy_score(y_pred=ypred_A,y_true=ytest_A))\n",
    "cm_dct_A=metrik.confusion_matrix(y_pred=ypred_A,y_true=ytest_A)\n",
    "print(cm_dct_A)\n",
    "sns.heatmap(cm_dct_A, annot=True)"
   ]
  },
  {
   "cell_type": "code",
   "execution_count": 53,
   "id": "655edc90",
   "metadata": {},
   "outputs": [
    {
     "name": "stdout",
     "output_type": "stream",
     "text": [
      "0.9703075291622482\n",
      "[[ 69  17]\n",
      " [ 11 846]]\n"
     ]
    },
    {
     "data": {
      "text/plain": [
       "<AxesSubplot:>"
      ]
     },
     "execution_count": 53,
     "metadata": {},
     "output_type": "execute_result"
    },
    {
     "data": {
      "image/png": "[encoded data removed]",
      "text/plain": [
       "<Figure size 432x288 with 2 Axes>"
      ]
     },
     "metadata": {
      "needs_background": "light"
     },
     "output_type": "display_data"
    }
   ],
   "source": [
    "gdb_A=GradientBoostingClassifier(max_features=2,max_depth=2,random_state=10)\n",
    "gdb_A.fit(xtrain_A,ytrain_A)\n",
    "ypred_A=gdb_A.predict(xtest_A)\n",
    "print(metrik.accuracy_score(y_pred=ypred_A,y_true=ytest_A))\n",
    "cm_gdb_A=metrik.confusion_matrix(y_pred=ypred_A,y_true=ytest_A)\n",
    "print(cm_gdb_A)\n",
    "sns.heatmap(cm_gdb_A, annot=True)"
   ]
  },
  {
   "cell_type": "code",
   "execution_count": 54,
   "id": "c7c621e3",
   "metadata": {},
   "outputs": [
    {
     "name": "stdout",
     "output_type": "stream",
     "text": [
      "0.9766702014846236\n",
      "[[ 78   8]\n",
      " [ 14 843]]\n"
     ]
    },
    {
     "data": {
      "text/plain": [
       "<AxesSubplot:>"
      ]
     },
     "execution_count": 54,
     "metadata": {},
     "output_type": "execute_result"
    },
    {
     "data": {
      "image/png": "[encoded data removed]",
      "text/plain": [
       "<Figure size 432x288 with 2 Axes>"
      ]
     },
     "metadata": {
      "needs_background": "light"
     },
     "output_type": "display_data"
    }
   ],
   "source": [
    "adb_A=AdaBoostClassifier(n_estimators=5,random_state=10)\n",
    "adb_A.fit(xtrain_A,ytrain_A)\n",
    "ypred_A=adb_A.predict(xtest_A)\n",
    "print(metrik.accuracy_score(y_pred=ypred_A,y_true=ytest_A))\n",
    "cm_adb_A=metrik.confusion_matrix(y_pred=ypred_A,y_true=ytest_A)\n",
    "print(cm_adb_A)\n",
    "sns.heatmap(cm_adb_A, annot=True)"
   ]
  },
  {
   "cell_type": "code",
   "execution_count": 55,
   "id": "ec4e12ff",
   "metadata": {},
   "outputs": [
    {
     "name": "stdout",
     "output_type": "stream",
     "text": [
      "0.9278897136797455\n",
      "[[ 26  60]\n",
      " [  8 849]]\n"
     ]
    },
    {
     "data": {
      "text/plain": [
       "<AxesSubplot:>"
      ]
     },
     "execution_count": 55,
     "metadata": {},
     "output_type": "execute_result"
    },
    {
     "data": {
      "image/png": "[encoded data removed]",
      "text/plain": [
       "<Figure size 432x288 with 2 Axes>"
      ]
     },
     "metadata": {
      "needs_background": "light"
     },
     "output_type": "display_data"
    }
   ],
   "source": [
    "lgr_A=LogisticRegression(solver='liblinear', random_state=10)\n",
    "lgr_A.fit(xtrain_A,ytrain_A)\n",
    "ypred_A=lgr_A.predict(xtest_A)\n",
    "print(metrik.accuracy_score(y_pred=ypred_A,y_true=ytest_A))\n",
    "cm_lgr_A=metrik.confusion_matrix(y_pred=ypred_A,y_true=ytest_A)\n",
    "print(cm_lgr_A)\n",
    "sns.heatmap(cm_lgr_A, annot=True)"
   ]
  },
  {
   "cell_type": "code",
   "execution_count": 56,
   "id": "57a1b7ca",
   "metadata": {},
   "outputs": [
    {
     "name": "stdout",
     "output_type": "stream",
     "text": [
      "0.936373276776246\n",
      "[[ 35  51]\n",
      " [  9 848]]\n"
     ]
    },
    {
     "data": {
      "text/plain": [
       "<AxesSubplot:>"
      ]
     },
     "execution_count": 56,
     "metadata": {},
     "output_type": "execute_result"
    },
    {
     "data": {
      "image/png": "[encoded data removed]",
      "text/plain": [
       "<Figure size 432x288 with 2 Axes>"
      ]
     },
     "metadata": {
      "needs_background": "light"
     },
     "output_type": "display_data"
    }
   ],
   "source": [
    "knc_A=KNeighborsClassifier(algorithm='auto', metric='minkowski', n_neighbors=5)\n",
    "knc_A.fit(xtrain_A,ytrain_A)\n",
    "ypred_A=knc_A.predict(xtest_A)\n",
    "print(metrik.accuracy_score(y_pred=ypred_A,y_true=ytest_A))\n",
    "cm_knc_A=metrik.confusion_matrix(y_pred=ypred_A,y_true=ytest_A)\n",
    "print(cm_knc_A)\n",
    "sns.heatmap(cm_knc_A, annot=True)"
   ]
  },
  {
   "cell_type": "markdown",
   "id": "0ff21bed",
   "metadata": {},
   "source": [
    "# Feature Selection by filtering Method"
   ]
  },
  {
   "cell_type": "code",
   "execution_count": 57,
   "id": "d40d6fc4",
   "metadata": {},
   "outputs": [],
   "source": [
    "from sklearn.feature_selection import SelectKBest\n",
    "from sklearn.feature_selection import f_classif"
   ]
  },
  {
   "cell_type": "code",
   "execution_count": 58,
   "id": "bfcb1366",
   "metadata": {},
   "outputs": [],
   "source": [
    "im=SelectKBest(score_func=f_classif)"
   ]
  },
  {
   "cell_type": "code",
   "execution_count": 59,
   "id": "54001f24",
   "metadata": {},
   "outputs": [
    {
     "name": "stderr",
     "output_type": "stream",
     "text": [
      "C:\\Users\\Shourav Molla\\anaconda3\\lib\\site-packages\\sklearn\\feature_selection\\_univariate_selection.py:112: UserWarning: Features [25] are constant.\n",
      "  warnings.warn(\"Features %s are constant.\" % constant_features_idx, UserWarning)\n",
      "C:\\Users\\Shourav Molla\\anaconda3\\lib\\site-packages\\sklearn\\feature_selection\\_univariate_selection.py:113: RuntimeWarning: invalid value encountered in true_divide\n",
      "  f = msb / msw\n"
     ]
    },
    {
     "data": {
      "text/plain": [
       "SelectKBest()"
      ]
     },
     "execution_count": 59,
     "metadata": {},
     "output_type": "execute_result"
    }
   ],
   "source": [
    "im.fit(x,y)"
   ]
  },
  {
   "cell_type": "code",
   "execution_count": 60,
   "id": "27a37528",
   "metadata": {},
   "outputs": [
    {
     "data": {
      "text/html": [
       "<div>\n",
       "<style scoped>\n",
       "    .dataframe tbody tr th:only-of-type {\n",
       "        vertical-align: middle;\n",
       "    }\n",
       "\n",
       "    .dataframe tbody tr th {\n",
       "        vertical-align: top;\n",
       "    }\n",
       "\n",
       "    .dataframe thead th {\n",
       "        text-align: right;\n",
       "    }\n",
       "</style>\n",
       "<table border=\"1\" class=\"dataframe\">\n",
       "  <thead>\n",
       "    <tr style=\"text-align: right;\">\n",
       "      <th></th>\n",
       "      <th>Score Value</th>\n",
       "    </tr>\n",
       "  </thead>\n",
       "  <tbody>\n",
       "    <tr>\n",
       "      <th>age</th>\n",
       "      <td>0.040637</td>\n",
       "    </tr>\n",
       "    <tr>\n",
       "      <th>sex</th>\n",
       "      <td>9.730269</td>\n",
       "    </tr>\n",
       "    <tr>\n",
       "      <th>on thyroxine</th>\n",
       "      <td>24.935611</td>\n",
       "    </tr>\n",
       "    <tr>\n",
       "      <th>query on thyroxine</th>\n",
       "      <td>0.209171</td>\n",
       "    </tr>\n",
       "    <tr>\n",
       "      <th>on antithyroid medication</th>\n",
       "      <td>1.774231</td>\n",
       "    </tr>\n",
       "    <tr>\n",
       "      <th>sick</th>\n",
       "      <td>0.011533</td>\n",
       "    </tr>\n",
       "    <tr>\n",
       "      <th>pregnant</th>\n",
       "      <td>4.496739</td>\n",
       "    </tr>\n",
       "    <tr>\n",
       "      <th>thyroid surgery</th>\n",
       "      <td>1.172518</td>\n",
       "    </tr>\n",
       "    <tr>\n",
       "      <th>I131 treatment</th>\n",
       "      <td>0.048580</td>\n",
       "    </tr>\n",
       "    <tr>\n",
       "      <th>query hypothyroid</th>\n",
       "      <td>28.276390</td>\n",
       "    </tr>\n",
       "    <tr>\n",
       "      <th>query hyperthyroid</th>\n",
       "      <td>0.681738</td>\n",
       "    </tr>\n",
       "    <tr>\n",
       "      <th>lithium</th>\n",
       "      <td>0.118375</td>\n",
       "    </tr>\n",
       "    <tr>\n",
       "      <th>goitre</th>\n",
       "      <td>2.868800</td>\n",
       "    </tr>\n",
       "    <tr>\n",
       "      <th>tumor</th>\n",
       "      <td>0.052918</td>\n",
       "    </tr>\n",
       "    <tr>\n",
       "      <th>hypopituitary</th>\n",
       "      <td>0.083576</td>\n",
       "    </tr>\n",
       "    <tr>\n",
       "      <th>psych</th>\n",
       "      <td>3.080860</td>\n",
       "    </tr>\n",
       "    <tr>\n",
       "      <th>TSH measured</th>\n",
       "      <td>34.486525</td>\n",
       "    </tr>\n",
       "    <tr>\n",
       "      <th>TSH</th>\n",
       "      <td>670.596525</td>\n",
       "    </tr>\n",
       "    <tr>\n",
       "      <th>T3 measured</th>\n",
       "      <td>4.076599</td>\n",
       "    </tr>\n",
       "    <tr>\n",
       "      <th>TT4 measured</th>\n",
       "      <td>10.671478</td>\n",
       "    </tr>\n",
       "    <tr>\n",
       "      <th>TT4</th>\n",
       "      <td>311.593048</td>\n",
       "    </tr>\n",
       "    <tr>\n",
       "      <th>T4U measured</th>\n",
       "      <td>0.953440</td>\n",
       "    </tr>\n",
       "    <tr>\n",
       "      <th>T4U</th>\n",
       "      <td>0.162776</td>\n",
       "    </tr>\n",
       "    <tr>\n",
       "      <th>FTI measured</th>\n",
       "      <td>0.897913</td>\n",
       "    </tr>\n",
       "    <tr>\n",
       "      <th>FTI</th>\n",
       "      <td>349.939551</td>\n",
       "    </tr>\n",
       "    <tr>\n",
       "      <th>TBG measured</th>\n",
       "      <td>NaN</td>\n",
       "    </tr>\n",
       "  </tbody>\n",
       "</table>\n",
       "</div>"
      ],
      "text/plain": [
       "                           Score Value\n",
       "age                           0.040637\n",
       "sex                           9.730269\n",
       "on thyroxine                 24.935611\n",
       "query on thyroxine            0.209171\n",
       "on antithyroid medication     1.774231\n",
       "sick                          0.011533\n",
       "pregnant                      4.496739\n",
       "thyroid surgery               1.172518\n",
       "I131 treatment                0.048580\n",
       "query hypothyroid            28.276390\n",
       "query hyperthyroid            0.681738\n",
       "lithium                       0.118375\n",
       "goitre                        2.868800\n",
       "tumor                         0.052918\n",
       "hypopituitary                 0.083576\n",
       "psych                         3.080860\n",
       "TSH measured                 34.486525\n",
       "TSH                         670.596525\n",
       "T3 measured                   4.076599\n",
       "TT4 measured                 10.671478\n",
       "TT4                         311.593048\n",
       "T4U measured                  0.953440\n",
       "T4U                           0.162776\n",
       "FTI measured                  0.897913\n",
       "FTI                         349.939551\n",
       "TBG measured                       NaN"
      ]
     },
     "execution_count": 60,
     "metadata": {},
     "output_type": "execute_result"
    }
   ],
   "source": [
    "top2 = pd.DataFrame(im.scores_,index=x.columns,columns=['Score Value'])\n",
    "top2"
   ]
  },
  {
   "cell_type": "code",
   "execution_count": 61,
   "id": "044299eb",
   "metadata": {},
   "outputs": [
    {
     "data": {
      "text/html": [
       "<div>\n",
       "<style scoped>\n",
       "    .dataframe tbody tr th:only-of-type {\n",
       "        vertical-align: middle;\n",
       "    }\n",
       "\n",
       "    .dataframe tbody tr th {\n",
       "        vertical-align: top;\n",
       "    }\n",
       "\n",
       "    .dataframe thead th {\n",
       "        text-align: right;\n",
       "    }\n",
       "</style>\n",
       "<table border=\"1\" class=\"dataframe\">\n",
       "  <thead>\n",
       "    <tr style=\"text-align: right;\">\n",
       "      <th></th>\n",
       "      <th>Score Value</th>\n",
       "    </tr>\n",
       "  </thead>\n",
       "  <tbody>\n",
       "    <tr>\n",
       "      <th>TSH</th>\n",
       "      <td>670.596525</td>\n",
       "    </tr>\n",
       "    <tr>\n",
       "      <th>FTI</th>\n",
       "      <td>349.939551</td>\n",
       "    </tr>\n",
       "    <tr>\n",
       "      <th>TT4</th>\n",
       "      <td>311.593048</td>\n",
       "    </tr>\n",
       "    <tr>\n",
       "      <th>TSH measured</th>\n",
       "      <td>34.486525</td>\n",
       "    </tr>\n",
       "    <tr>\n",
       "      <th>query hypothyroid</th>\n",
       "      <td>28.276390</td>\n",
       "    </tr>\n",
       "    <tr>\n",
       "      <th>on thyroxine</th>\n",
       "      <td>24.935611</td>\n",
       "    </tr>\n",
       "    <tr>\n",
       "      <th>TT4 measured</th>\n",
       "      <td>10.671478</td>\n",
       "    </tr>\n",
       "    <tr>\n",
       "      <th>sex</th>\n",
       "      <td>9.730269</td>\n",
       "    </tr>\n",
       "    <tr>\n",
       "      <th>pregnant</th>\n",
       "      <td>4.496739</td>\n",
       "    </tr>\n",
       "    <tr>\n",
       "      <th>T3 measured</th>\n",
       "      <td>4.076599</td>\n",
       "    </tr>\n",
       "    <tr>\n",
       "      <th>psych</th>\n",
       "      <td>3.080860</td>\n",
       "    </tr>\n",
       "    <tr>\n",
       "      <th>goitre</th>\n",
       "      <td>2.868800</td>\n",
       "    </tr>\n",
       "  </tbody>\n",
       "</table>\n",
       "</div>"
      ],
      "text/plain": [
       "                   Score Value\n",
       "TSH                 670.596525\n",
       "FTI                 349.939551\n",
       "TT4                 311.593048\n",
       "TSH measured         34.486525\n",
       "query hypothyroid    28.276390\n",
       "on thyroxine         24.935611\n",
       "TT4 measured         10.671478\n",
       "sex                   9.730269\n",
       "pregnant              4.496739\n",
       "T3 measured           4.076599\n",
       "psych                 3.080860\n",
       "goitre                2.868800"
      ]
     },
     "execution_count": 61,
     "metadata": {},
     "output_type": "execute_result"
    }
   ],
   "source": [
    "top2.nlargest(12,'Score Value')"
   ]
  },
  {
   "cell_type": "code",
   "execution_count": 62,
   "id": "1ef7a24b",
   "metadata": {},
   "outputs": [
    {
     "data": {
      "text/plain": [
       "<AxesSubplot:>"
      ]
     },
     "execution_count": 62,
     "metadata": {},
     "output_type": "execute_result"
    },
    {
     "data": {
      "image/png": "[encoded data removed]",
      "text/plain": [
       "<Figure size 432x288 with 1 Axes>"
      ]
     },
     "metadata": {
      "needs_background": "light"
     },
     "output_type": "display_data"
    }
   ],
   "source": [
    "top2.nlargest(12,'Score Value').plot(kind='bar')"
   ]
  },
  {
   "cell_type": "markdown",
   "id": "60ca3dc2",
   "metadata": {},
   "source": [
    "## Evaluate after feature Selection"
   ]
  },
  {
   "cell_type": "code",
   "execution_count": 63,
   "id": "f71a7387",
   "metadata": {},
   "outputs": [],
   "source": [
    "x2=x.drop([\"TBG measured\",\"age\",\"query on thyroxine\",\"sick\",\"FTI measured\",\"T4U\",\"hypopituitary\",\"tumor\",\"lithium\",\"thyroid surgery\",\"T4U measured\",\"query hyperthyroid\",\"I131 treatment\",\"on antithyroid medication\"],axis='columns')"
   ]
  },
  {
   "cell_type": "code",
   "execution_count": 64,
   "id": "ff961cf9",
   "metadata": {},
   "outputs": [
    {
     "data": {
      "text/plain": [
       "Index(['sex', 'on thyroxine', 'pregnant', 'query hypothyroid', 'goitre',\n",
       "       'psych', 'TSH measured', 'TSH', 'T3 measured', 'TT4 measured', 'TT4',\n",
       "       'FTI'],\n",
       "      dtype='object')"
      ]
     },
     "execution_count": 64,
     "metadata": {},
     "output_type": "execute_result"
    }
   ],
   "source": [
    "x2.columns"
   ]
  },
  {
   "cell_type": "code",
   "execution_count": 65,
   "id": "162eb9d9",
   "metadata": {},
   "outputs": [],
   "source": [
    "from sklearn.model_selection import train_test_split\n",
    "xtrain_B, xtest_B, ytrain_B, ytest_B = train_test_split(x2, y, test_size=0.25, random_state=5)"
   ]
  },
  {
   "cell_type": "code",
   "execution_count": 66,
   "id": "e8bc4b66",
   "metadata": {},
   "outputs": [],
   "source": [
    "classifiers_B = {\n",
    "    \"Random Forest\" : RandomForestClassifier(n_estimators=5,criterion='entropy',random_state=10),\n",
    "    \"Decision Tree\" : DecisionTreeClassifier(criterion='entropy',max_depth=2,random_state=10),\n",
    "    \"Adaboost Classifier\" : AdaBoostClassifier(n_estimators=5,random_state=10),\n",
    "    \"Gradient Boost\" : GradientBoostingClassifier(max_features=2,max_depth=2,random_state=10),\n",
    "    \"Logistic Regression\" : LogisticRegression(solver='liblinear', random_state=10),\n",
    "    \"K-Neighbors\" : KNeighborsClassifier(algorithm='auto', metric='minkowski', n_neighbors=5)\n",
    "}"
   ]
  },
  {
   "cell_type": "code",
   "execution_count": 67,
   "id": "e7cb5609",
   "metadata": {},
   "outputs": [
    {
     "name": "stderr",
     "output_type": "stream",
     "text": [
      "C:\\Users\\Shourav Molla\\AppData\\Local\\Temp\\ipykernel_1564\\3255792357.py:11: FutureWarning: The frame.append method is deprecated and will be removed from pandas in a future version. Use pandas.concat instead.\n",
      "  res = res.append({\"Classifier\": name,\"Accuracy\": round(metrics.accuracy_score(ytest_B, ypred_B), 4),\n",
      "C:\\Users\\Shourav Molla\\AppData\\Local\\Temp\\ipykernel_1564\\3255792357.py:11: FutureWarning: The frame.append method is deprecated and will be removed from pandas in a future version. Use pandas.concat instead.\n",
      "  res = res.append({\"Classifier\": name,\"Accuracy\": round(metrics.accuracy_score(ytest_B, ypred_B), 4),\n",
      "C:\\Users\\Shourav Molla\\AppData\\Local\\Temp\\ipykernel_1564\\3255792357.py:11: FutureWarning: The frame.append method is deprecated and will be removed from pandas in a future version. Use pandas.concat instead.\n",
      "  res = res.append({\"Classifier\": name,\"Accuracy\": round(metrics.accuracy_score(ytest_B, ypred_B), 4),\n",
      "C:\\Users\\Shourav Molla\\AppData\\Local\\Temp\\ipykernel_1564\\3255792357.py:11: FutureWarning: The frame.append method is deprecated and will be removed from pandas in a future version. Use pandas.concat instead.\n",
      "  res = res.append({\"Classifier\": name,\"Accuracy\": round(metrics.accuracy_score(ytest_B, ypred_B), 4),\n",
      "C:\\Users\\Shourav Molla\\AppData\\Local\\Temp\\ipykernel_1564\\3255792357.py:11: FutureWarning: The frame.append method is deprecated and will be removed from pandas in a future version. Use pandas.concat instead.\n",
      "  res = res.append({\"Classifier\": name,\"Accuracy\": round(metrics.accuracy_score(ytest_B, ypred_B), 4),\n",
      "C:\\Users\\Shourav Molla\\AppData\\Local\\Temp\\ipykernel_1564\\3255792357.py:11: FutureWarning: The frame.append method is deprecated and will be removed from pandas in a future version. Use pandas.concat instead.\n",
      "  res = res.append({\"Classifier\": name,\"Accuracy\": round(metrics.accuracy_score(ytest_B, ypred_B), 4),\n",
      "C:\\Users\\Shourav Molla\\anaconda3\\lib\\site-packages\\pandas\\core\\indexes\\base.py:6982: FutureWarning: In a future version, the Index constructor will not infer numeric dtypes when passed object-dtype sequences (matching Series behavior)\n",
      "  return Index(sequences[0], name=names)\n"
     ]
    },
    {
     "data": {
      "text/html": [
       "<div>\n",
       "<style scoped>\n",
       "    .dataframe tbody tr th:only-of-type {\n",
       "        vertical-align: middle;\n",
       "    }\n",
       "\n",
       "    .dataframe tbody tr th {\n",
       "        vertical-align: top;\n",
       "    }\n",
       "\n",
       "    .dataframe thead th {\n",
       "        text-align: right;\n",
       "    }\n",
       "</style>\n",
       "<table border=\"1\" class=\"dataframe\">\n",
       "  <thead>\n",
       "    <tr style=\"text-align: right;\">\n",
       "      <th></th>\n",
       "      <th>Classifier</th>\n",
       "      <th>Precision</th>\n",
       "      <th>Recall</th>\n",
       "      <th>F1Score</th>\n",
       "    </tr>\n",
       "    <tr>\n",
       "      <th>Accuracy</th>\n",
       "      <th></th>\n",
       "      <th></th>\n",
       "      <th></th>\n",
       "      <th></th>\n",
       "    </tr>\n",
       "  </thead>\n",
       "  <tbody>\n",
       "    <tr>\n",
       "      <th>0.9883</th>\n",
       "      <td>Gradient Boost</td>\n",
       "      <td>0.9718</td>\n",
       "      <td>0.957</td>\n",
       "      <td>0.9643</td>\n",
       "    </tr>\n",
       "    <tr>\n",
       "      <th>0.9830</th>\n",
       "      <td>Adaboost Classifier</td>\n",
       "      <td>0.9576</td>\n",
       "      <td>0.9384</td>\n",
       "      <td>0.9477</td>\n",
       "    </tr>\n",
       "    <tr>\n",
       "      <th>0.9799</th>\n",
       "      <td>Random Forest</td>\n",
       "      <td>0.93</td>\n",
       "      <td>0.9523</td>\n",
       "      <td>0.9408</td>\n",
       "    </tr>\n",
       "    <tr>\n",
       "      <th>0.9661</th>\n",
       "      <td>Decision Tree</td>\n",
       "      <td>0.8658</td>\n",
       "      <td>0.9761</td>\n",
       "      <td>0.9113</td>\n",
       "    </tr>\n",
       "    <tr>\n",
       "      <th>0.9459</th>\n",
       "      <td>K-Neighbors</td>\n",
       "      <td>0.8762</td>\n",
       "      <td>0.7663</td>\n",
       "      <td>0.8095</td>\n",
       "    </tr>\n",
       "    <tr>\n",
       "      <th>0.9321</th>\n",
       "      <td>Logistic Regression</td>\n",
       "      <td>0.8895</td>\n",
       "      <td>0.6541</td>\n",
       "      <td>0.7107</td>\n",
       "    </tr>\n",
       "  </tbody>\n",
       "</table>\n",
       "</div>"
      ],
      "text/plain": [
       "                   Classifier Precision  Recall F1Score\n",
       "Accuracy                                               \n",
       "0.9883         Gradient Boost    0.9718   0.957  0.9643\n",
       "0.9830    Adaboost Classifier    0.9576  0.9384  0.9477\n",
       "0.9799          Random Forest      0.93  0.9523  0.9408\n",
       "0.9661          Decision Tree    0.8658  0.9761  0.9113\n",
       "0.9459            K-Neighbors    0.8762  0.7663  0.8095\n",
       "0.9321    Logistic Regression    0.8895  0.6541  0.7107"
      ]
     },
     "metadata": {},
     "output_type": "display_data"
    }
   ],
   "source": [
    "def classification(classifiers_B):\n",
    "  res = pd.DataFrame(columns=[\"Classifier\", \n",
    "                                \"Accuracy\", \n",
    "                                \"Precision\", \n",
    "                                \"Recall\", \n",
    "                                \"F1Score\"])\n",
    "  for name, clf in classifiers.items():\n",
    "            clf.fit(xtrain_B, ytrain_B)\n",
    "            ypred_B = clf.predict(xtest_B)\n",
    "            pr, rc, fs, sup = metrics.precision_recall_fscore_support(ytest_B, ypred_B, average='macro')\n",
    "            res = res.append({\"Classifier\": name,\"Accuracy\": round(metrics.accuracy_score(ytest_B, ypred_B), 4),\n",
    "                              \"Precision\": round(pr, 4), \"Recall\":round(rc, 4), \"F1Score\":round(fs, 4)}, ignore_index=True)\n",
    "                 \n",
    "  res.set_index(\"Accuracy\", inplace=True)\n",
    "  res.sort_values(by=\"Accuracy\", ascending=False, inplace=True)   \n",
    "  return res\n",
    "\n",
    "display(classification(classifiers_B))"
   ]
  },
  {
   "cell_type": "code",
   "execution_count": 68,
   "id": "9d3baf45",
   "metadata": {},
   "outputs": [
    {
     "name": "stdout",
     "output_type": "stream",
     "text": [
      "0.9798515376458112\n",
      "[[ 79   7]\n",
      " [ 12 845]]\n"
     ]
    },
    {
     "data": {
      "text/plain": [
       "<AxesSubplot:>"
      ]
     },
     "execution_count": 68,
     "metadata": {},
     "output_type": "execute_result"
    },
    {
     "data": {
      "image/png": "[encoded data removed]",
      "text/plain": [
       "<Figure size 432x288 with 2 Axes>"
      ]
     },
     "metadata": {
      "needs_background": "light"
     },
     "output_type": "display_data"
    }
   ],
   "source": [
    "rcl_B=RandomForestClassifier(n_estimators=5,criterion='entropy',random_state=10)\n",
    "rcl_B.fit(xtrain_B,ytrain_B)\n",
    "ypred_B=rcl_B.predict(xtest_B)\n",
    "print(metrik.accuracy_score(y_pred=ypred_B,y_true=ytest_B))\n",
    "cm_rcl_B=metrik.confusion_matrix(y_pred=ypred_B,y_true=ytest_B)\n",
    "print(cm_rcl_B)\n",
    "sns.heatmap(cm_rcl_B, annot=True)"
   ]
  },
  {
   "cell_type": "code",
   "execution_count": 69,
   "id": "db43bb7b",
   "metadata": {},
   "outputs": [
    {
     "name": "stdout",
     "output_type": "stream",
     "text": [
      "0.9660657476139979\n",
      "[[ 85   1]\n",
      " [ 31 826]]\n"
     ]
    },
    {
     "data": {
      "text/plain": [
       "<AxesSubplot:>"
      ]
     },
     "execution_count": 69,
     "metadata": {},
     "output_type": "execute_result"
    },
    {
     "data": {
      "image/png": "[encoded data removed]",
      "text/plain": [
       "<Figure size 432x288 with 2 Axes>"
      ]
     },
     "metadata": {
      "needs_background": "light"
     },
     "output_type": "display_data"
    }
   ],
   "source": [
    "dct_B=DecisionTreeClassifier(criterion='entropy',max_depth=2,random_state=10)\n",
    "dct_B.fit(xtrain_B,ytrain_B)\n",
    "ypred_B=dct_B.predict(xtest_B)\n",
    "print(metrik.accuracy_score(y_pred=ypred_B,y_true=ytest_B))\n",
    "cm_dct_B=metrik.confusion_matrix(y_pred=ypred_B,y_true=ytest_B)\n",
    "print(cm_dct_B)\n",
    "sns.heatmap(cm_dct_B, annot=True)"
   ]
  },
  {
   "cell_type": "code",
   "execution_count": 70,
   "id": "d33697a5",
   "metadata": {},
   "outputs": [
    {
     "name": "stdout",
     "output_type": "stream",
     "text": [
      "0.9883351007423118\n",
      "[[ 79   7]\n",
      " [  4 853]]\n"
     ]
    },
    {
     "data": {
      "text/plain": [
       "<AxesSubplot:>"
      ]
     },
     "execution_count": 70,
     "metadata": {},
     "output_type": "execute_result"
    },
    {
     "data": {
      "image/png": "[encoded data removed]",
      "text/plain": [
       "<Figure size 432x288 with 2 Axes>"
      ]
     },
     "metadata": {
      "needs_background": "light"
     },
     "output_type": "display_data"
    }
   ],
   "source": [
    "gdb_B=GradientBoostingClassifier(max_features=2,max_depth=2,random_state=10)\n",
    "gdb_B.fit(xtrain_B,ytrain_B)\n",
    "ypred_B=gdb_B.predict(xtest_B)\n",
    "print(metrik.accuracy_score(y_pred=ypred_B,y_true=ytest_B))\n",
    "cm_gdb_B=metrik.confusion_matrix(y_pred=ypred_B,y_true=ytest_B)\n",
    "print(cm_gdb_B)\n",
    "sns.heatmap(cm_gdb_B, annot=True)"
   ]
  },
  {
   "cell_type": "code",
   "execution_count": 71,
   "id": "56ed3000",
   "metadata": {},
   "outputs": [
    {
     "name": "stdout",
     "output_type": "stream",
     "text": [
      "0.9830328738069989\n",
      "[[ 76  10]\n",
      " [  6 851]]\n"
     ]
    },
    {
     "data": {
      "text/plain": [
       "<AxesSubplot:>"
      ]
     },
     "execution_count": 71,
     "metadata": {},
     "output_type": "execute_result"
    },
    {
     "data": {
      "image/png": "[encoded data removed]",
      "text/plain": [
       "<Figure size 432x288 with 2 Axes>"
      ]
     },
     "metadata": {
      "needs_background": "light"
     },
     "output_type": "display_data"
    }
   ],
   "source": [
    "adb_B=AdaBoostClassifier(n_estimators=5,random_state=10)\n",
    "adb_B.fit(xtrain_B,ytrain_B)\n",
    "ypred_B=adb_B.predict(xtest_B)\n",
    "print(metrik.accuracy_score(y_pred=ypred_B,y_true=ytest_B))\n",
    "cm_adb_B=metrik.confusion_matrix(y_pred=ypred_B,y_true=ytest_B)\n",
    "print(cm_adb_B)\n",
    "sns.heatmap(cm_adb_B, annot=True)"
   ]
  },
  {
   "cell_type": "code",
   "execution_count": 72,
   "id": "b771a191",
   "metadata": {},
   "outputs": [
    {
     "name": "stdout",
     "output_type": "stream",
     "text": [
      "0.9321314952279958\n",
      "[[ 27  59]\n",
      " [  5 852]]\n"
     ]
    },
    {
     "data": {
      "text/plain": [
       "<AxesSubplot:>"
      ]
     },
     "execution_count": 72,
     "metadata": {},
     "output_type": "execute_result"
    },
    {
     "data": {
      "image/png": "[encoded data removed]",
      "text/plain": [
       "<Figure size 432x288 with 2 Axes>"
      ]
     },
     "metadata": {
      "needs_background": "light"
     },
     "output_type": "display_data"
    }
   ],
   "source": [
    "lgr_B=LogisticRegression(solver='liblinear', random_state=10)\n",
    "lgr_B.fit(xtrain_B,ytrain_B)\n",
    "ypred_B=lgr_B.predict(xtest_B)\n",
    "print(metrik.accuracy_score(y_pred=ypred_B,y_true=ytest_B))\n",
    "cm_lgr_B=metrik.confusion_matrix(y_pred=ypred_B,y_true=ytest_B)\n",
    "print(cm_lgr_B)\n",
    "sns.heatmap(cm_lgr_B, annot=True)"
   ]
  },
  {
   "cell_type": "code",
   "execution_count": 73,
   "id": "311e044d",
   "metadata": {},
   "outputs": [
    {
     "name": "stdout",
     "output_type": "stream",
     "text": [
      "0.9459172852598091\n",
      "[[ 47  39]\n",
      " [ 12 845]]\n"
     ]
    },
    {
     "data": {
      "text/plain": [
       "<AxesSubplot:>"
      ]
     },
     "execution_count": 73,
     "metadata": {},
     "output_type": "execute_result"
    },
    {
     "data": {
      "image/png": "[encoded data removed]",
      "text/plain": [
       "<Figure size 432x288 with 2 Axes>"
      ]
     },
     "metadata": {
      "needs_background": "light"
     },
     "output_type": "display_data"
    }
   ],
   "source": [
    "knc_B=KNeighborsClassifier(algorithm='auto', metric='minkowski', n_neighbors=5)\n",
    "knc_B.fit(xtrain_B,ytrain_B)\n",
    "ypred_B=knc_B.predict(xtest_B)\n",
    "print(metrik.accuracy_score(y_pred=ypred_B,y_true=ytest_B))\n",
    "cm_knc_B=metrik.confusion_matrix(y_pred=ypred_B,y_true=ytest_B)\n",
    "print(cm_knc_B)\n",
    "sns.heatmap(cm_knc_B, annot=True)"
   ]
  },
  {
   "cell_type": "code",
   "execution_count": null,
   "id": "99809907",
   "metadata": {},
   "outputs": [],
   "source": []
  }
 ],
 "metadata": {
  "kernelspec": {
   "display_name": "Python 3 (ipykernel)",
   "language": "python",
   "name": "python3"
  },
  "language_info": {
   "codemirror_mode": {
    "name": "ipython",
    "version": 3
   },
   "file_extension": ".py",
   "mimetype": "text/x-python",
   "name": "python",
   "nbconvert_exporter": "python",
   "pygments_lexer": "ipython3",
   "version": "3.9.12"
  }
 },
 "nbformat": 4,
 "nbformat_minor": 5
}
